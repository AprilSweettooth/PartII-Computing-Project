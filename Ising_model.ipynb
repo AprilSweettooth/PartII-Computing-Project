{
  "cells": [
    {
      "cell_type": "code",
      "execution_count": 1,
      "metadata": {
        "id": "7506c994"
      },
      "outputs": [],
      "source": [
        "import numpy as np\n",
        "import matplotlib.pyplot as plt\n",
        "import numpy.linalg as npl\n",
        "import functools as ft\n",
        "import scipy.sparse as sparse\n",
        "import scipy.sparse.linalg as spsl"
      ],
      "id": "7506c994"
    },
    {
      "cell_type": "markdown",
      "metadata": {
        "id": "743435e4"
      },
      "source": [
        "## Some comments:\n",
        "- This exercise is due on March 3rd.\n",
        "- Not all information you will need is necessarily given in the sheet. It is expected that you will make use of the the library documentation when solving these tasks. \n",
        "- In a jupyter notebook, you can access the docstring of a function by typing its name (e.g. \"np.array\") and then pressing tab while holding down the shift key. \n",
        "- Note that I have defined the transverse field Ising model Hamiltonian differently from how it was defined in the lectures.\n",
        "- Part 4 is voluntary. You can get full marks on the exercise without doing this part."
      ],
      "id": "743435e4"
    },
    {
      "cell_type": "markdown",
      "metadata": {
        "id": "f6013fc0"
      },
      "source": [
        "# Exact diagonalisation (ED)\n",
        "\n",
        "The aim of this exercise is to implement exact diagonalisation to find the eigenvalues and eigenvectors of a quantum Hamiltonian.\n",
        "\n",
        "We will focus on the transverse field Ising model on a 1D chain of N spin-$\\frac{1}{2}$ particles:\n",
        "\n",
        "$$ {\\cal H}_{\\mathrm{Ising}} = -J \\sum_{i=1}^N \\sigma_i^z \\sigma_{i+1}^z - h \\sum_i \\sigma_i^x$$\n",
        "\n",
        "Here $\\sigma_i^\\alpha$ are the familiar Pauli matrix operators for spin i on the chain:\n",
        "\n",
        "$$ \\sigma^x = \\begin{pmatrix}\n",
        "0 & 1 \\\\\n",
        "1 & 0 \\end{pmatrix} \\, , \n",
        "\\sigma^y = \\begin{pmatrix}\n",
        "0 & -i\\\\\n",
        "i & 0\n",
        "\\end{pmatrix} \\, , \n",
        "\\sigma^z = \\begin{pmatrix}\n",
        "1 & 0\\\\\n",
        "0 & -1\n",
        "\\end{pmatrix}\n",
        "\\ \n",
        "$$\n",
        "\n",
        "We will assume $J=1$ and work with periodic boundary conditions by assumming that $\\sigma_{N+1} = \\sigma_1$. For periodic boundary conditions the groundstate energy at $h=1$ is known exactly to be\n",
        "$$ E_0(h=1) = -\\frac{2}{\\sin{\\left(\\frac{\\pi}{2N}\\right)}}$$\n",
        "which you can use to test your code.\n",
        "\n",
        "\n",
        "The next step is to split this Hamiltonian into a sum of local terms, centred on the bonds between spins:\n",
        "$$ {\\cal H}_{\\mathrm{Ising}} = \\sum_{i=1}^N {\\cal H}_{i, i+1}^{\\mathrm{loc}} $$\n",
        "with\n",
        "$$ {\\cal H}_{i,i+1}^{\\mathrm{loc}} = - \\sigma_i^z \\sigma_{i+1}^z + \\frac{1}{2}h(\\sigma_i^x + \\sigma_{i+1}^x)$$.\n",
        "\n",
        "\n"
      ],
      "id": "f6013fc0"
    },
    {
      "cell_type": "markdown",
      "metadata": {
        "id": "b67859ee"
      },
      "source": [
        "## Part 1: Constructing the Hamiltonian matrix explicitly\n",
        "\n",
        "We will be working in the basis of states given by \n",
        "$$|1\\rangle = |\\uparrow \\uparrow \\uparrow ... \\uparrow \\uparrow \\rangle $$\n",
        "$$|2\\rangle = |\\uparrow \\uparrow \\uparrow ... \\uparrow \\downarrow \\rangle $$\n",
        "$$|3\\rangle = |\\uparrow \\uparrow \\uparrow ... \\downarrow \\uparrow \\rangle $$\n",
        "$$ . $$\n",
        "$$ . $$ \n",
        "$$ . $$\n",
        "$$|N+2\\rangle = |\\uparrow \\uparrow \\uparrow ... \\uparrow \\downarrow \\downarrow \\rangle $$\n",
        "$$|N+3\\rangle = |\\uparrow \\uparrow \\uparrow ... \\downarrow \\uparrow \\downarrow \\rangle $$\n",
        "\n",
        "$$ . $$\n",
        "$$ . $$ \n",
        "$$ . $$\n",
        "$$|2^N\\rangle = |\\downarrow \\downarrow \\downarrow ... \\downarrow \\uparrow \\rangle $$\n",
        "$$|2^N\\rangle = |\\downarrow \\downarrow \\downarrow ... \\downarrow \\downarrow \\rangle $$\n",
        "\n",
        "\n",
        "Our states are expressed as \n",
        "$$ | \\psi \\rangle = \\sum_{n=1}^{2^N} c_n|n \\rangle $$\n",
        "and the coefficients $c_n$ can be expressed as a vector $\\mathbf{n}$ with $2^N$ components. The first thing we have to do is now to rewrite the Hamiltonian as a $2^N \\times 2^N$ matrix $H$, using our local Hamiltonians ${\\cal H}_{i, i+1}^{\\mathrm{loc}}$. $H$ is defined by \n",
        "$$H_{m, n} = \\langle m | {\\cal H}_{\\mathrm{Ising}} | n \\rangle $$\n",
        "but we can construct it directly from our Pauli matrices. \n",
        "\n",
        "To do this, we need to include the identities that are implicit in the Hamiltonian above. It should really read:\n",
        "\n",
        "\n",
        "$$ {\\cal H}_{\\mathrm{Ising}} = - \\sum_{i=1}^N I_1...I_{i-1}\\sigma_i^z \\sigma_{i+1}^zI_{i+2}...I_N - h \\sum_i I_1...I_{i-1}\\sigma_i^x I_{i+1}...I_N$$\n",
        "\n",
        "We build up our matrix by taking the [Kronecker product](https://en.wikipedia.org/wiki/Kronecker_product) of the Pauli matrices. This is most easily done using the np.kron function in numpy. \n",
        "\n",
        "Rather than nesting a large number of np.kron(...) calls in our code, we can make use of the functools library function reduce.\n",
        "\n",
        "For example: ft.reduce(np.kron, [A, B, C, D]) = np.kron(np.kron(np.kron(A, B), C), D)"
      ],
      "id": "b67859ee"
    },
    {
      "cell_type": "markdown",
      "metadata": {
        "id": "c98ec93f"
      },
      "source": [
        "The function CompleteHamiltonian defined below computes the Hamiltonian matrix for a system with $N$ spins."
      ],
      "id": "c98ec93f"
    },
    {
      "cell_type": "code",
      "execution_count": 2,
      "metadata": {
        "id": "a1bd10a4"
      },
      "outputs": [],
      "source": [
        "# Define our Pauli Matrices\n",
        "\n",
        "I = np.array([[1, 0], [0, 1]])\n",
        "sigmaX = np.array([[0, 1],[1, 0]])\n",
        "sigmaZ = np.array([[1, 0], [0, -1]])"
      ],
      "id": "a1bd10a4"
    },
    {
      "cell_type": "code",
      "execution_count": 3,
      "metadata": {
        "id": "b8d29035"
      },
      "outputs": [],
      "source": [
        "def CompleteHamiltonian(N, h=1.):\n",
        "    \"\"\"\n",
        "    Constructs the Hamiltonian matrix of the transverse field Ising model for a system of N spins using periodic boundary conditions and in a transverse field h.\n",
        "    Does this using Kronecker products of the Pauli matrices.\n",
        "    Stores the Hamiltonian matrix in a numpy.ndarray object.\n",
        "    \n",
        "    Parameters:\n",
        "    -----------\n",
        "    N: integer\n",
        "    h: float type, optional\n",
        "    \n",
        "    Returns:\n",
        "    -----------\n",
        "    H: ndarray\n",
        "    \n",
        "    \"\"\"\n",
        "    Matrices1 = np.zeros((N, 2, 2))\n",
        "    Matrices1[:] = I\n",
        "    Matrices2 = np.copy(Matrices1)\n",
        "    Matrices1[0] = sigmaZ\n",
        "    Matrices1[1] = sigmaZ\n",
        "\n",
        "    Matrices2[0] = h * sigmaX\n",
        "    \n",
        "    \n",
        "    H = np.zeros((2**N, 2**N))\n",
        "    for ii in range(N):\n",
        "        H -= ft.reduce(np.kron, Matrices1)\n",
        "        Matrices1 = np.roll(Matrices1, 1, axis=0)\n",
        "        \n",
        "        H -= ft.reduce(np.kron, Matrices2)\n",
        "        Matrices2 = np.roll(Matrices2, 1, axis=0)\n",
        "        \n",
        "    \n",
        "    return H\n"
      ],
      "id": "b8d29035"
    },
    {
      "cell_type": "code",
      "execution_count": null,
      "metadata": {
        "colab": {
          "base_uri": "https://localhost:8080/"
        },
        "id": "XB9PLpacW2iu",
        "outputId": "eb9320c0-0fc8-4044-a7e8-acf49177e882"
      },
      "outputs": [
        {
          "output_type": "execute_result",
          "data": {
            "text/plain": [
              "array([[-2., -1., -1.,  0.],\n",
              "       [-1.,  2.,  0., -1.],\n",
              "       [-1.,  0.,  2., -1.],\n",
              "       [ 0., -1., -1., -2.]])"
            ]
          },
          "metadata": {},
          "execution_count": 12
        }
      ],
      "source": [
        "CompleteHamiltonian(2)"
      ],
      "id": "XB9PLpacW2iu"
    },
    {
      "cell_type": "markdown",
      "metadata": {
        "id": "5c1c0019"
      },
      "source": [
        "### Task 1:\n",
        "Construct ${\\cal H}^{\\mathrm{loc}}$ as a $4\\times 4$ numpy array Hloc using Kronecker products of the Pauli matrices and the identity."
      ],
      "id": "5c1c0019"
    },
    {
      "cell_type": "code",
      "execution_count": 4,
      "metadata": {
        "id": "8a51b9f4"
      },
      "outputs": [],
      "source": [
        "def LocalHamiltonian(h):\n",
        "    # Your code goes here\n",
        "    Hloc = -np.kron(sigmaZ, sigmaZ) - (1/2) * h * (np.kron(sigmaX, I) + np.kron(I, sigmaX))\n",
        "    return Hloc"
      ],
      "id": "8a51b9f4"
    },
    {
      "cell_type": "code",
      "execution_count": null,
      "metadata": {
        "colab": {
          "base_uri": "https://localhost:8080/"
        },
        "id": "fbdqLezDXcgF",
        "outputId": "897448f2-366b-4164-ca9f-57c70cd32bc4"
      },
      "outputs": [
        {
          "output_type": "execute_result",
          "data": {
            "text/plain": [
              "array([[-1. , -0.5, -0.5,  0. ],\n",
              "       [-0.5,  1. ,  0. , -0.5],\n",
              "       [-0.5,  0. ,  1. , -0.5],\n",
              "       [ 0. , -0.5, -0.5, -1. ]])"
            ]
          },
          "metadata": {},
          "execution_count": 14
        }
      ],
      "source": [
        "LocalHamiltonian(1)"
      ],
      "id": "fbdqLezDXcgF"
    },
    {
      "cell_type": "markdown",
      "metadata": {
        "id": "c2f3e57f"
      },
      "source": [
        "The result should be:\n",
        "$$H^{\\mathrm{loc}} =  \\begin{pmatrix}\n",
        "-1 & -h/2 & -h/2 & 0 \\\\\n",
        "-h/2 & 1 & 0 & -h/2 \\\\\n",
        "-h/2 & 0 & 1 & -h/2 \\\\\n",
        "0 & -h/2 & -h/2 & -1 \\end{pmatrix}$$\n"
      ],
      "id": "c2f3e57f"
    },
    {
      "cell_type": "markdown",
      "metadata": {
        "id": "903e4329"
      },
      "source": [
        "### Task 2:\n",
        "Write a function \"CompleteHamiltonian2\" that uses $H^{\\mathrm{loc}}$ to iteratively construct the complete Hamiltonian. You can make use of the fact that the Kronecker product of two identity matrices with shapes $M\\times M$ and $N\\times N$ is an identity matrix of shape $(M+N) \\times (M+N)$. Don't forget about the periodic boundary conditions (for these you may want to use the elementary Pauli matrices), and make sure to check that your function does the same thing as the example above."
      ],
      "id": "903e4329"
    },
    {
      "cell_type": "code",
      "execution_count": 5,
      "metadata": {
        "id": "c3541216"
      },
      "outputs": [],
      "source": [
        "def CompleteHamiltonian2(N, h=1.):\n",
        "    # Your code goes here.\n",
        "    H = np.zeros((2**N, 2**N))\n",
        "    for i in range(N-1):\n",
        "      H += ft.reduce(np.kron, [np.identity(2**i), LocalHamiltonian(h), np.identity(2**(N-i-2))]) \n",
        "    H += -ft.reduce(np.kron, [sigmaZ, np.identity(2**(N-2)), sigmaZ]) - (1/2) * h * np.kron(np.identity(2**(N-1)), sigmaX) - (1/2) * h * np.kron(sigmaX, np.identity(2**(N-1))) \n",
        "    return H"
      ],
      "id": "c3541216"
    },
    {
      "cell_type": "code",
      "execution_count": null,
      "metadata": {
        "colab": {
          "base_uri": "https://localhost:8080/"
        },
        "id": "HK4KWTqre0Yd",
        "outputId": "4c611076-e11c-4882-a930-4b55ae9dfb68"
      },
      "outputs": [
        {
          "output_type": "execute_result",
          "data": {
            "text/plain": [
              "array([[-2., -1., -1.,  0.],\n",
              "       [-1.,  2.,  0., -1.],\n",
              "       [-1.,  0.,  2., -1.],\n",
              "       [ 0., -1., -1., -2.]])"
            ]
          },
          "metadata": {},
          "execution_count": 16
        }
      ],
      "source": [
        "CompleteHamiltonian(2)"
      ],
      "id": "HK4KWTqre0Yd"
    },
    {
      "cell_type": "code",
      "execution_count": null,
      "metadata": {
        "colab": {
          "base_uri": "https://localhost:8080/"
        },
        "id": "f668a177",
        "outputId": "9a124e2b-5123-4308-cd1f-b7da2ec9c392"
      },
      "outputs": [
        {
          "output_type": "execute_result",
          "data": {
            "text/plain": [
              "True"
            ]
          },
          "metadata": {},
          "execution_count": 17
        }
      ],
      "source": [
        "# Check that the two methods do the same thing.\n",
        "np.all(np.isclose(CompleteHamiltonian(10, h = 1.23), CompleteHamiltonian2(10, h = 1.23)))"
      ],
      "id": "f668a177"
    },
    {
      "cell_type": "markdown",
      "metadata": {
        "id": "e9cf9f13"
      },
      "source": [
        "If you are struggling to write a function to construc the Hamiltonian using ${\\cal H}^{\\mathrm{loc}}$ you can continue using the function CompleteHamiltonian in the following tasks."
      ],
      "id": "e9cf9f13"
    },
    {
      "cell_type": "markdown",
      "metadata": {
        "id": "db330122"
      },
      "source": [
        "Now that we have a way to construct our Hamiltonian matrices we can diagonalise these to find the energy groundstate. \n",
        "\n",
        "### Task 3:\n",
        "Use the eigh function in numpy.linalg to find the eigenvalues of the Hamiltonian. Plot the groundstate energy as a function of $h$ for $h$ between 0.01 and 100. Do this for a few different values of $N<10$ and normalise by $N$. I would suggest using a log-log scale (e.g. using plt.xscale('log') and plt.yscale('symlog')). Do the energies for $h << 1$ and $h >> 1$ match your expectation?"
      ],
      "id": "db330122"
    },
    {
      "cell_type": "code",
      "execution_count": null,
      "metadata": {
        "colab": {
          "base_uri": "https://localhost:8080/"
        },
        "id": "eXqrYWLmgp8m",
        "outputId": "0ac7d955-ae01-43c0-dfb1-834e44fdffbd"
      },
      "outputs": [
        {
          "output_type": "execute_result",
          "data": {
            "text/plain": [
              "array([-2.82842712, -2.        ,  2.82842712,  2.        ])"
            ]
          },
          "metadata": {},
          "execution_count": 18
        }
      ],
      "source": [
        "np.linalg.eig(CompleteHamiltonian2(2))[0]"
      ],
      "id": "eXqrYWLmgp8m"
    },
    {
      "cell_type": "code",
      "execution_count": 9,
      "metadata": {
        "colab": {
          "base_uri": "https://localhost:8080/",
          "height": 299
        },
        "id": "86729650",
        "outputId": "011f9db2-ccef-4e49-f889-346aa233d2fe"
      },
      "outputs": [
        {
          "output_type": "display_data",
          "data": {
            "text/plain": [
              "<Figure size 432x288 with 1 Axes>"
            ],
            "image/png": "[encoded data removed]"
          },
          "metadata": {
            "needs_background": "light"
          }
        }
      ],
      "source": [
        "hh = np.logspace(-2, 2, 10)\n",
        "Ns = np.arange(2, 10, 1)\n",
        "\n",
        "# Your code goes here\n",
        "for N in Ns:\n",
        "  E = []\n",
        "  for h in hh:\n",
        "    H = CompleteHamiltonian2(N, h)\n",
        "    E.append(npl.eigh(H)[0][0]/N)\n",
        "  plt.plot(hh, E, label=str(N))\n",
        "  plt.legend(prop={'size': 7})\n",
        "  plt.title('Ground state energy against h')\n",
        "  plt.xlabel('h')\n",
        "  plt.ylabel('groundstate energy')\n",
        "  plt.xscale('log')\n",
        "  plt.yscale('symlog')"
      ],
      "id": "86729650"
    },
    {
      "cell_type": "markdown",
      "metadata": {
        "id": "XwzOYzP3isSO"
      },
      "source": [
        "When $h << 1$, the Ising model is in ordered phase with degenerate ground state space. When h=0, the system is (with probability one) in the first basis state, where all spins point in z direction.\n",
        "In contrast, when $h >> 1$ the system is said to be in the disordered phase. The ground state is nondegenerate. And the system occupies all basis states with approximately equal probability (maximal superposition)."
      ],
      "id": "XwzOYzP3isSO"
    },
    {
      "cell_type": "markdown",
      "metadata": {
        "id": "904ef6a1"
      },
      "source": [
        "As you have probably already realised, this method quickly becomes very expensive as we go to larger $N$. Let's explore this a bit further. \n",
        "\n",
        "### Task 4:\n",
        "Use the code below to measure how the computational time scales for your function. Plot this as a function of $N$ for $N<=10$, and include the standard deviation as an errorbar. \n"
      ],
      "id": "904ef6a1"
    },
    {
      "cell_type": "code",
      "execution_count": null,
      "metadata": {
        "colab": {
          "base_uri": "https://localhost:8080/"
        },
        "id": "43652ef2",
        "outputId": "edf07abd-f9a5-4e56-9cc6-c68aa2f88209"
      },
      "outputs": [
        {
          "output_type": "stream",
          "name": "stdout",
          "text": [
            "N=2\n",
            "942 µs ± 344 µs per loop (mean ± std. dev. of 7 runs, 1000 loops each)\n",
            "N=3\n",
            "2.35 ms ± 1.02 ms per loop (mean ± std. dev. of 7 runs, 100 loops each)\n",
            "N=4\n",
            "3.95 ms ± 1.41 ms per loop (mean ± std. dev. of 7 runs, 100 loops each)\n",
            "N=5\n",
            "5.89 ms ± 437 µs per loop (mean ± std. dev. of 7 runs, 100 loops each)\n",
            "N=6\n",
            "3.19 ms ± 82.4 µs per loop (mean ± std. dev. of 7 runs, 100 loops each)\n",
            "N=7\n",
            "9.09 ms ± 3.01 ms per loop (mean ± std. dev. of 7 runs, 100 loops each)\n",
            "N=8\n",
            "21.4 ms ± 1.27 ms per loop (mean ± std. dev. of 7 runs, 10 loops each)\n",
            "N=9\n",
            "111 ms ± 33 ms per loop (mean ± std. dev. of 7 runs, 10 loops each)\n",
            "N=10\n",
            "485 ms ± 12.7 ms per loop (mean ± std. dev. of 7 runs, 1 loop each)\n"
          ]
        }
      ],
      "source": [
        "Ns = np.arange(2, 11, 1)\n",
        "h = 1\n",
        "\n",
        "timingCompact = []\n",
        "for N in Ns:\n",
        "    print(f\"N={N}\")\n",
        "    result = %timeit -o npl.eigh(CompleteHamiltonian2(N))\n",
        "    timingCompact.append(result)\n",
        "\n",
        "# The averages can be put in a list by doing: [time.average for time in timingCompact]\n",
        "# Same for the standard deviation: [time.stdev for time in timingCompact]"
      ],
      "id": "43652ef2"
    },
    {
      "cell_type": "code",
      "execution_count": null,
      "metadata": {
        "colab": {
          "base_uri": "https://localhost:8080/",
          "height": 313
        },
        "id": "69e47ba6",
        "outputId": "3cf50c55-3465-40f5-9249-310fb49172a2"
      },
      "outputs": [
        {
          "output_type": "execute_result",
          "data": {
            "text/plain": [
              "Text(0, 0.5, 'Computational time')"
            ]
          },
          "metadata": {},
          "execution_count": 13
        },
        {
          "output_type": "display_data",
          "data": {
            "text/plain": [
              "<Figure size 432x288 with 1 Axes>"
            ],
            "image/png": "[encoded data removed]"
          },
          "metadata": {
            "needs_background": "light"
          }
        }
      ],
      "source": [
        "# Plot the result here. Use a log-scale for the y-axis.\n",
        "plt.errorbar(Ns, [time.average for time in timingCompact], [time.stdev for time in timingCompact])\n",
        "plt.title('Computational time scale against number of spins')\n",
        "plt.xlabel('N')\n",
        "plt.ylabel('Computational time')"
      ],
      "id": "69e47ba6"
    },
    {
      "cell_type": "markdown",
      "metadata": {
        "id": "b00df6de"
      },
      "source": [
        "Clearly, this scales quite poorly in terms of computation time, and we will soon run into problems. In addition, storing the $2^N \\times 2^N$ matrix quickly becomes infeasible (although the memory usage is slightly trickier to measure directly in python).\n",
        "\n",
        "To progress, we will make use of an important property of the Hamiltonian – that it is a sparse matrix. "
      ],
      "id": "b00df6de"
    },
    {
      "cell_type": "markdown",
      "metadata": {
        "id": "0761df42"
      },
      "source": [
        "## Part 2: Using sparse matrices and solvers\n",
        "\n",
        "In this part of the exercises we will make use of the built-in functionality to deal with sparse matrices available in scipy.sparse and scipy.sparse.linalg. \n",
        "\n",
        "To define a sparse version of a numpy.ndarray object A simply use sparseA = sparse.csr_matrix(A). This creates a \"Compressed Sparse Row array\".  You could also try using sparse.csc_matrix, \"Compressed Sparse Column array\", and check if there is a difference in performance between the two. (This check is not a required task!) \n",
        "\n",
        "scipy.sparse.kron provides a sparse version of the Kronecker product. \n",
        "\n",
        "scipy.sparse.identity provides a sparse version of the identity. "
      ],
      "id": "0761df42"
    },
    {
      "cell_type": "code",
      "execution_count": null,
      "metadata": {
        "colab": {
          "base_uri": "https://localhost:8080/"
        },
        "id": "aWkP3-LVk-K3",
        "outputId": "ccf4c243-c2e9-47c8-a4b4-527dd831f7f6"
      },
      "outputs": [
        {
          "output_type": "stream",
          "name": "stdout",
          "text": [
            "11.4 µs ± 2.62 µs per loop (mean ± std. dev. of 7 runs, 100000 loops each)\n",
            "csr: 11.4 µs ± 2.62 µs per loop (mean ± std. dev. of 7 runs, 100000 loops each)\n",
            "10.1 µs ± 770 ns per loop (mean ± std. dev. of 7 runs, 100000 loops each)\n",
            "csc 10.1 µs ± 770 ns per loop (mean ± std. dev. of 7 runs, 100000 loops each)\n"
          ]
        }
      ],
      "source": [
        "result_csr = %timeit -o npl.eigh(I)\n",
        "print('csr:', result_csr)\n",
        "result_csc = %timeit -o npl.eigh(I)\n",
        "print('csc', result_csc)"
      ],
      "id": "aWkP3-LVk-K3"
    },
    {
      "cell_type": "markdown",
      "metadata": {
        "id": "MX8r_0nql9n9"
      },
      "source": [
        "compressed sparse row array is generally less time consuming than column matrix in the case of matrix with scales like Identity."
      ],
      "id": "MX8r_0nql9n9"
    },
    {
      "cell_type": "markdown",
      "metadata": {
        "id": "360ba62f"
      },
      "source": [
        "### Task 5:\n",
        "Rewrite your code from task 2 to construct a sparse representation of the Hamiltonian. \n",
        "\n",
        "Remember not to create any large regular matrices (i.e. a matrix/array with all elements stored in memory) in the process! "
      ],
      "id": "360ba62f"
    },
    {
      "cell_type": "code",
      "execution_count": null,
      "metadata": {
        "colab": {
          "base_uri": "https://localhost:8080/"
        },
        "id": "Q_LkfFlimaie",
        "outputId": "df280432-64e7-4caa-a4cf-fa06735b679f"
      },
      "outputs": [
        {
          "output_type": "execute_result",
          "data": {
            "text/plain": [
              "<2x2 sparse matrix of type '<class 'numpy.int64'>'\n",
              "\twith 2 stored elements in Compressed Sparse Row format>"
            ]
          },
          "metadata": {},
          "execution_count": 15
        }
      ],
      "source": [
        "sparse.csr_matrix(I)"
      ],
      "id": "Q_LkfFlimaie"
    },
    {
      "cell_type": "code",
      "execution_count": null,
      "metadata": {
        "id": "68b1148a"
      },
      "outputs": [],
      "source": [
        "# Define our Pauli Matrices\n",
        "\n",
        "sparseI = sparse.csr_matrix(I)\n",
        "sparseX = sparse.csr_matrix(sigmaX)\n",
        "sparseZ = sparse.csr_matrix(sigmaZ)\n",
        "\n",
        "# Use these to construct the Hamiltonian. \n",
        "\n",
        "def SparseHamiltonian(N, h=1):\n",
        "    def LocalHamiltonian_sparse(h):\n",
        "      # Your code goes here\n",
        "      Hloc = -sparse.kron(sparseZ, sparseZ) - (1/2) * h * (sparse.kron(sparseX, sparseI) + sparse.kron(sparseI, sparseX))\n",
        "      return Hloc\n",
        "    # Your code goes here\n",
        "    H = sparse.csr_matrix(np.zeros((2**N, 2**N)))\n",
        "    for i in range(N-1):\n",
        "      H += ft.reduce(sparse.kron, [sparse.identity(2**i), LocalHamiltonian_sparse(h), sparse.identity(2**(N-i-2))]) \n",
        "    H += -ft.reduce(sparse.kron, [sparseZ, sparse.identity(2**(N-2)), sparseZ]) - (1/2) * h * sparse.kron(sparse.identity(2**(N-1)), sparseX) - (1/2) * h * sparse.kron(sparseX, sparse.identity(2**(N-1))) \n",
        "    return H"
      ],
      "id": "68b1148a"
    },
    {
      "cell_type": "code",
      "execution_count": null,
      "metadata": {
        "colab": {
          "base_uri": "https://localhost:8080/"
        },
        "id": "aade2e2d",
        "outputId": "16b61e08-fc3b-44de-b2d8-cb0c15827c44"
      },
      "outputs": [
        {
          "output_type": "execute_result",
          "data": {
            "text/plain": [
              "scipy.sparse.csr.csr_matrix"
            ]
          },
          "metadata": {},
          "execution_count": 17
        }
      ],
      "source": [
        "# Check that your Hamiltonian is really a sparse object:\n",
        "type(SparseHamiltonian(10))"
      ],
      "id": "aade2e2d"
    },
    {
      "cell_type": "markdown",
      "metadata": {
        "id": "23e8cfec"
      },
      "source": [
        "### Task 6:\n",
        "How many elements are we explicitly storing in our Hamiltonian matrix? Plot the number of explicitly stored elements as a function of N. Also plot the total number of elements that there would have been in the complete matrix. You should be able to go to at least $N=16$ now.\n",
        "\n",
        "The number of elements in a sparse matrix A is given by calling A.nnz"
      ],
      "id": "23e8cfec"
    },
    {
      "cell_type": "code",
      "source": [
        "CompleteHamiltonian2(2).size"
      ],
      "metadata": {
        "colab": {
          "base_uri": "https://localhost:8080/"
        },
        "id": "dXyj5S9YrPvZ",
        "outputId": "08b2a1c8-58a2-41b1-f137-4c783e1ae18a"
      },
      "id": "dXyj5S9YrPvZ",
      "execution_count": null,
      "outputs": [
        {
          "output_type": "execute_result",
          "data": {
            "text/plain": [
              "16"
            ]
          },
          "metadata": {},
          "execution_count": 11
        }
      ]
    },
    {
      "cell_type": "code",
      "source": [
        "Ns = np.arange(2, 17, 1)\n",
        "e = np.zeros((2,len(Ns)))\n",
        "for i in range(len(Ns)):\n",
        "  e[0][i] = 2**(2*Ns[i])\n",
        "  e[1][i] = SparseHamiltonian(Ns[i]).nnz\n",
        "\n",
        "plt.plot(Ns, e[0], label='complete hamiltonian')\n",
        "plt.plot(Ns, e[1], label='sparse hamiltonian')\n",
        "plt.title('stored elements against dimension N')\n",
        "plt.xlabel('N')\n",
        "plt.ylabel('number of elements')\n",
        "plt.yscale('symlog')\n",
        "plt.legend()\n",
        "plt.show()"
      ],
      "metadata": {
        "colab": {
          "base_uri": "https://localhost:8080/",
          "height": 295
        },
        "id": "eML5aulAo9vQ",
        "outputId": "9fe705df-ef80-47fe-fb20-58293ae0d36b"
      },
      "id": "eML5aulAo9vQ",
      "execution_count": null,
      "outputs": [
        {
          "output_type": "display_data",
          "data": {
            "text/plain": [
              "<Figure size 432x288 with 1 Axes>"
            ],
            "image/png": "[encoded data removed]"
          },
          "metadata": {
            "needs_background": "light"
          }
        }
      ]
    },
    {
      "cell_type": "markdown",
      "metadata": {
        "id": "30VjuRq_mDNH"
      },
      "source": [
        "sparse matrix has much less elements needed to be stored compared to complete hamiltonian."
      ],
      "id": "30VjuRq_mDNH"
    },
    {
      "cell_type": "markdown",
      "metadata": {
        "id": "53d9e1bc"
      },
      "source": [
        "## Part 3: Using a linear operator to define your matrix\n"
      ],
      "id": "53d9e1bc"
    },
    {
      "cell_type": "markdown",
      "metadata": {
        "id": "c34dd90c"
      },
      "source": [
        "The LinearOperator class in scipy.sparse.linalg defines a \"matrix-like\" object $A$ based on how it operates on a vector $\\mathbf{v}$, i.e. from the equation $A\\mathbf{v} = \\mathbf{c}$. It is called with two inputs: shape (in our case the tuple ($2^N$, $2^N$)) and a callable \"matvec\", which in our case will be a function \"ActWithH(psi)\".\n",
        "\n",
        "We do not want to do this by constructing the $2^N \\times 2^N$ matrix version of ${\\cal H}^{\\mathrm{loc}}$. We are trying to reduce memory usage, so that would defeat the purpose."
      ],
      "id": "c34dd90c"
    },
    {
      "cell_type": "markdown",
      "metadata": {
        "id": "6f7a3620"
      },
      "source": [
        "### Task 7: \n",
        "We need a function that performs the action of ${\\cal H}_{\\mathrm{Ising}}$ on a general state, encoded in a vector of length $2^N$. Define a function that does this through repeated operation with ${\\cal H}^{\\mathrm{loc}}$.\n",
        "\n",
        "You should make use of the property that the operation on a general state, stored in a $2^N$ vector $|\\psi \\rangle $, by ${\\cal H}^{\\mathrm{loc}}_{i,i+1}$ can be computed efficiently using a tensor product as demonstrated in the lectures. (In fact, the simplest solution here would be to rewrite the code given in the lecture notes to use your Hloc.)"
      ],
      "id": "6f7a3620"
    },
    {
      "cell_type": "code",
      "execution_count": null,
      "metadata": {
        "colab": {
          "base_uri": "https://localhost:8080/"
        },
        "id": "7d76c258",
        "outputId": "865c444a-895c-417e-d4a7-762c090fe6f2"
      },
      "outputs": [
        {
          "output_type": "execute_result",
          "data": {
            "text/plain": [
              "True"
            ]
          },
          "metadata": {},
          "execution_count": 16
        }
      ],
      "source": [
        "def ActWithH(psiIn, N, h=1.):\n",
        "    \n",
        "    hloc = LocalHamiltonian(h).reshape((2,2,2,2))\n",
        "    d = hloc.shape[0]\n",
        "    psiOut = np.zeros(psiIn.size)\n",
        "    for k in range(N - 1):\n",
        "    # apply local Hamiltonian terms to sites [k,k+1]\n",
        "        psiOut += np.tensordot(hloc.reshape(d**2, d**2),\n",
        "                           psiIn.reshape(d**k, d**2, d**(N - 2 - k)),\n",
        "                           axes=[[1], [1]]).transpose(1, 0, 2).reshape(d**N)\n",
        "\n",
        "    # apply periodic term\n",
        "    psiOut += np.tensordot(hloc.reshape(d, d, d, d),\n",
        "                           psiIn.reshape(d, d**(N - 2), d),\n",
        "                           axes=[[2, 3], [2, 0]]\n",
        "                           ).transpose(1, 2, 0).reshape(d**N)\n",
        "\n",
        "    return psiOut  \n",
        "\n",
        "# Unit tests\n",
        "N=3\n",
        "h=2.\n",
        "psiIn = np.array([1,0,0,0,0,0,0,0])\n",
        "# Check that the two methods do the same thing.\n",
        "np.all(np.isclose(ActWithH(psiIn,N,h),CompleteHamiltonian(N,h) @ psiIn))"
      ],
      "id": "7d76c258"
    },
    {
      "cell_type": "code",
      "source": [
        "ActWithH(np.array([1,0,0,0,0,0,0,0,1,0,0,0,0,0,0,0]), 4, h=1.)"
      ],
      "metadata": {
        "colab": {
          "base_uri": "https://localhost:8080/"
        },
        "id": "-uaRhCdIwts9",
        "outputId": "98b5c161-bedd-443b-80d5-e1aec676648e"
      },
      "id": "-uaRhCdIwts9",
      "execution_count": null,
      "outputs": [
        {
          "output_type": "execute_result",
          "data": {
            "text/plain": [
              "array([-5., -1., -1.,  0., -1.,  0.,  0.,  0., -1., -1., -1.,  0., -1.,\n",
              "        0.,  0.,  0.])"
            ]
          },
          "metadata": {},
          "execution_count": 21
        }
      ]
    },
    {
      "cell_type": "markdown",
      "metadata": {
        "id": "6859c24f"
      },
      "source": [
        "### Task 8\n",
        "Write a function that returns the Hamiltonian as a linear operator for a given $N$ and $h$. Remember that the function we give as input to spsl.LinearOperator should in turn only take one input variable – the state vector psi."
      ],
      "id": "6859c24f"
    },
    {
      "cell_type": "code",
      "execution_count": null,
      "metadata": {
        "id": "611a817f"
      },
      "outputs": [],
      "source": [
        "def LinearHamiltonian(N, h=1):\n",
        "  def Act(psiIn):\n",
        "    return ActWithH(psiIn, N=N, h=h)\n",
        "  H = spsl.LinearOperator((2**N, 2**N), matvec=Act)\n",
        "  return H"
      ],
      "id": "611a817f"
    },
    {
      "cell_type": "code",
      "execution_count": null,
      "metadata": {
        "colab": {
          "base_uri": "https://localhost:8080/"
        },
        "id": "zM2W21fkm_Fr",
        "outputId": "7a5da169-0477-4873-f469-b143ab28ab43"
      },
      "outputs": [
        {
          "output_type": "stream",
          "name": "stdout",
          "text": [
            "<8x8 _CustomLinearOperator with dtype=float64>\n"
          ]
        }
      ],
      "source": [
        "print(LinearHamiltonian(3))"
      ],
      "id": "zM2W21fkm_Fr"
    },
    {
      "cell_type": "markdown",
      "metadata": {
        "id": "c87ede0c"
      },
      "source": [
        "### Task 9 - Comparing the methods\n",
        "Use spsl.eigsh to diagonalise the Hamiltonian defined as a sparse matrix and as a linear operator. \n",
        "How does the time required to compute the groundstate energy grow with $N$ for each method? Make a plot showing the computational time dependence for each of the three methods. When using the complete matrix method, you can stop at $N=10$. For the other two you should go to at least $N=16$. You can use the timing code (and results for the first method) from before."
      ],
      "id": "c87ede0c"
    },
    {
      "cell_type": "code",
      "execution_count": null,
      "metadata": {
        "colab": {
          "base_uri": "https://localhost:8080/"
        },
        "id": "a18206d7",
        "outputId": "1026c3df-3606-496c-853c-a528e98fa4ea"
      },
      "outputs": [
        {
          "output_type": "stream",
          "name": "stdout",
          "text": [
            "N=3\n",
            "1.07 ms ± 213 µs per loop (mean ± std. dev. of 7 runs, 1000 loops each)\n",
            "2.33 ms ± 57.9 µs per loop (mean ± std. dev. of 7 runs, 100 loops each)\n",
            "11.8 ms ± 2.25 ms per loop (mean ± std. dev. of 7 runs, 100 loops each)\n",
            "N=4\n",
            "1.67 ms ± 232 µs per loop (mean ± std. dev. of 7 runs, 1000 loops each)\n",
            "5.2 ms ± 91.4 µs per loop (mean ± std. dev. of 7 runs, 100 loops each)\n",
            "14.4 ms ± 2.96 ms per loop (mean ± std. dev. of 7 runs, 100 loops each)\n",
            "N=5\n",
            "2.47 ms ± 76.3 µs per loop (mean ± std. dev. of 7 runs, 100 loops each)\n",
            "13.3 ms ± 2.7 ms per loop (mean ± std. dev. of 7 runs, 100 loops each)\n",
            "18.7 ms ± 2.39 ms per loop (mean ± std. dev. of 7 runs, 100 loops each)\n",
            "N=6\n",
            "4.35 ms ± 89.3 µs per loop (mean ± std. dev. of 7 runs, 100 loops each)\n",
            "41.2 ms ± 5.33 ms per loop (mean ± std. dev. of 7 runs, 10 loops each)\n",
            "21.4 ms ± 673 µs per loop (mean ± std. dev. of 7 runs, 10 loops each)\n",
            "N=7\n",
            "16.6 ms ± 5.64 ms per loop (mean ± std. dev. of 7 runs, 100 loops each)\n",
            "55 ms ± 1.35 ms per loop (mean ± std. dev. of 7 runs, 10 loops each)\n",
            "28.5 ms ± 713 µs per loop (mean ± std. dev. of 7 runs, 10 loops each)\n",
            "N=8\n",
            "20.2 ms ± 762 µs per loop (mean ± std. dev. of 7 runs, 10 loops each)\n",
            "50.3 ms ± 11.5 ms per loop (mean ± std. dev. of 7 runs, 10 loops each)\n",
            "30.4 ms ± 955 µs per loop (mean ± std. dev. of 7 runs, 10 loops each)\n",
            "N=9\n",
            "156 ms ± 39.9 ms per loop (mean ± std. dev. of 7 runs, 10 loops each)\n",
            "151 ms ± 13.2 ms per loop (mean ± std. dev. of 7 runs, 1 loop each)\n",
            "69.7 ms ± 10.6 ms per loop (mean ± std. dev. of 7 runs, 10 loops each)\n",
            "N=10\n",
            "544 ms ± 102 ms per loop (mean ± std. dev. of 7 runs, 1 loop each)\n",
            "183 ms ± 5.92 ms per loop (mean ± std. dev. of 7 runs, 1 loop each)\n",
            "101 ms ± 32.6 ms per loop (mean ± std. dev. of 7 runs, 10 loops each)\n",
            "N=11\n",
            "283 ms ± 102 ms per loop (mean ± std. dev. of 7 runs, 1 loop each)\n",
            "157 ms ± 30 ms per loop (mean ± std. dev. of 7 runs, 10 loops each)\n",
            "N=12\n",
            "264 ms ± 13.5 ms per loop (mean ± std. dev. of 7 runs, 1 loop each)\n",
            "264 ms ± 5.53 ms per loop (mean ± std. dev. of 7 runs, 1 loop each)\n",
            "N=13\n",
            "473 ms ± 14.4 ms per loop (mean ± std. dev. of 7 runs, 1 loop each)\n",
            "987 ms ± 285 ms per loop (mean ± std. dev. of 7 runs, 1 loop each)\n",
            "N=14\n",
            "667 ms ± 31.9 ms per loop (mean ± std. dev. of 7 runs, 1 loop each)\n",
            "2.57 s ± 294 ms per loop (mean ± std. dev. of 7 runs, 1 loop each)\n",
            "N=15\n",
            "1.83 s ± 502 ms per loop (mean ± std. dev. of 7 runs, 1 loop each)\n",
            "9.45 s ± 278 ms per loop (mean ± std. dev. of 7 runs, 1 loop each)\n",
            "N=16\n",
            "3.56 s ± 518 ms per loop (mean ± std. dev. of 7 runs, 1 loop each)\n",
            "36.6 s ± 803 ms per loop (mean ± std. dev. of 7 runs, 1 loop each)\n"
          ]
        }
      ],
      "source": [
        "Ns = np.arange(3, 11, 1)\n",
        "Ns_extra = np.arange(11, 17, 1)\n",
        "timingCompact = [[],[],[]]\n",
        "for N in Ns:\n",
        "    print(f\"N={N}\")\n",
        "    result_complete = %timeit -o spsl.eigsh(CompleteHamiltonian2(N), k=N,return_eigenvectors=False)\n",
        "    result_linear = %timeit -o spsl.eigsh(LinearHamiltonian(N), k=N,return_eigenvectors=False)\n",
        "    result_sparse = %timeit -o spsl.eigsh(SparseHamiltonian(N), k=N,return_eigenvectors=False)\n",
        "    timingCompact[0].append(result_complete)\n",
        "    timingCompact[1].append(result_linear)\n",
        "    timingCompact[2].append(result_sparse)\n",
        "for N in Ns_extra:\n",
        "    print(f\"N={N}\")\n",
        "    result_linear = %timeit -o spsl.eigsh(LinearHamiltonian(N))\n",
        "    result_sparse = %timeit -o spsl.eigsh(SparseHamiltonian(N))\n",
        "    timingCompact[1].append(result_linear)\n",
        "    timingCompact[2].append(result_sparse)"
      ],
      "id": "a18206d7"
    },
    {
      "cell_type": "code",
      "execution_count": null,
      "metadata": {
        "id": "C5sb02-y9bbB"
      },
      "outputs": [],
      "source": [
        "# in case of lost data\n",
        "# N=3\n",
        "# 729 µs ± 44.1 µs per loop (mean ± std. dev. of 7 runs, 100 loops each)\n",
        "# 2.04 ms ± 332 µs per loop (mean ± std. dev. of 7 runs, 1000 loops each)\n",
        "# 7.53 ms ± 1.54 ms per loop (mean ± std. dev. of 7 runs, 100 loops each)\n",
        "# N=4\n",
        "# 1.36 ms ± 263 µs per loop (mean ± std. dev. of 7 runs, 1000 loops each)\n",
        "# 4.1 ms ± 83.5 µs per loop (mean ± std. dev. of 7 runs, 100 loops each)\n",
        "# 10.3 ms ± 2.05 ms per loop (mean ± std. dev. of 7 runs, 100 loops each)\n",
        "# N=5\n",
        "# 1.96 ms ± 43.2 µs per loop (mean ± std. dev. of 7 runs, 100 loops each)\n",
        "# 9.21 ms ± 136 µs per loop (mean ± std. dev. of 7 runs, 100 loops each)\n",
        "# 12.1 ms ± 893 µs per loop (mean ± std. dev. of 7 runs, 100 loops each)\n",
        "# N=6\n",
        "# 4.49 ms ± 1.12 ms per loop (mean ± std. dev. of 7 runs, 100 loops each)\n",
        "# 27.6 ms ± 7.32 ms per loop (mean ± std. dev. of 7 runs, 10 loops each)\n",
        "# 17.4 ms ± 2.53 ms per loop (mean ± std. dev. of 7 runs, 100 loops each)\n",
        "# N=7\n",
        "# 15 ms ± 4.42 ms per loop (mean ± std. dev. of 7 runs, 100 loops each)\n",
        "# 45.1 ms ± 1.16 ms per loop (mean ± std. dev. of 7 runs, 10 loops each)\n",
        "# 21.1 ms ± 484 µs per loop (mean ± std. dev. of 7 runs, 10 loops each)\n",
        "# N=8\n",
        "# 21.6 ms ± 3.94 ms per loop (mean ± std. dev. of 7 runs, 100 loops each)\n",
        "# 42.5 ms ± 11.2 ms per loop (mean ± std. dev. of 7 runs, 10 loops each)\n",
        "# 22.6 ms ± 401 µs per loop (mean ± std. dev. of 7 runs, 10 loops each)\n",
        "# N=9\n",
        "# 143 ms ± 31.8 ms per loop (mean ± std. dev. of 7 runs, 10 loops each)\n",
        "# 148 ms ± 39.8 ms per loop (mean ± std. dev. of 7 runs, 10 loops each)\n",
        "# 50.2 ms ± 1.48 ms per loop (mean ± std. dev. of 7 runs, 10 loops each)\n",
        "# N=10\n",
        "# 406 ms ± 39.4 ms per loop (mean ± std. dev. of 7 runs, 1 loop each)\n",
        "# 152 ms ± 9.88 ms per loop (mean ± std. dev. of 7 runs, 1 loop each)\n",
        "# 91.9 ms ± 29.8 ms per loop (mean ± std. dev. of 7 runs, 10 loops each)\n",
        "# N=11\n",
        "# 209 ms ± 38.4 ms per loop (mean ± std. dev. of 7 runs, 10 loops each)\n",
        "# 138 ms ± 32.3 ms per loop (mean ± std. dev. of 7 runs, 10 loops each)\n",
        "# N=12\n",
        "# 226 ms ± 13.1 ms per loop (mean ± std. dev. of 7 runs, 1 loop each)\n",
        "# 252 ms ± 4.04 ms per loop (mean ± std. dev. of 7 runs, 1 loop each)\n",
        "# N=13\n",
        "# 669 ms ± 209 ms per loop (mean ± std. dev. of 7 runs, 1 loop each)\n",
        "# 701 ms ± 23.6 ms per loop (mean ± std. dev. of 7 runs, 1 loop each)\n",
        "# N=14\n",
        "# 838 ms ± 258 ms per loop (mean ± std. dev. of 7 runs, 1 loop each)\n",
        "# 2.43 s ± 277 ms per loop (mean ± std. dev. of 7 runs, 1 loop each)\n",
        "# N=15\n",
        "# 1.73 s ± 411 ms per loop (mean ± std. dev. of 7 runs, 1 loop each)\n",
        "# 9.29 s ± 401 ms per loop (mean ± std. dev. of 7 runs, 1 loop each)\n",
        "# N=16\n",
        "# 3.32 s ± 756 ms per loop (mean ± std. dev. of 7 runs, 1 loop each)\n",
        "# 35.8 s ± 321 ms per loop (mean ± std. dev. of 7 runs, 1 loop each)"
      ],
      "id": "C5sb02-y9bbB"
    },
    {
      "cell_type": "code",
      "execution_count": null,
      "metadata": {
        "id": "RAsibZc59hxx",
        "colab": {
          "base_uri": "https://localhost:8080/",
          "height": 295
        },
        "outputId": "e2417b13-0d7b-4c0d-a312-91d4be0b0608"
      },
      "outputs": [
        {
          "output_type": "display_data",
          "data": {
            "text/plain": [
              "<Figure size 432x288 with 1 Axes>"
            ],
            "image/png": "[encoded data removed]"
          },
          "metadata": {
            "needs_background": "light"
          }
        }
      ],
      "source": [
        "plt.errorbar(list(Ns)+list(Ns_extra), [time.average for time in timingCompact[1]], [time.stdev for time in timingCompact[1]], label='linear hamiltonian')\n",
        "plt.errorbar(list(Ns)+list(Ns_extra), [time.average for time in timingCompact[2]], [time.stdev for time in timingCompact[2]], label='sparse hamiltonian')\n",
        "plt.errorbar(Ns, [time.average for time in timingCompact[0]], [time.stdev for time in timingCompact[0]], label='complete hamiltonian')\n",
        "plt.legend()\n",
        "plt.title('Computational time scale against number of spins')\n",
        "plt.xlabel('N')\n",
        "plt.ylabel('Computational time')\n",
        "plt.yscale('symlog')"
      ],
      "id": "RAsibZc59hxx"
    },
    {
      "cell_type": "markdown",
      "source": [
        "We can see that at small N the computation time is similar for three method but then around N=9 complete hamiltonian startd to grow exponentially. Then at N=13, sparse hamiltonian grow more rapidly compared to linear hamiltonian. Note that at around 10 to 12 dimension, linear method is actully less efficient than sparse matrix."
      ],
      "metadata": {
        "id": "NlX2jYo4SgKp"
      },
      "id": "NlX2jYo4SgKp"
    },
    {
      "cell_type": "markdown",
      "metadata": {
        "id": "9cde7b71"
      },
      "source": [
        "## Part 4: Magnetization - Optional!\n",
        "Now that we have efficient ways of finding our groundstate, we can turn to look at how the magnetisation of the groundstate depends on $h$ and $N$. "
      ],
      "id": "9cde7b71"
    },
    {
      "cell_type": "markdown",
      "metadata": {
        "id": "6c12ca2d"
      },
      "source": [
        "### Task 10:\n",
        "Using a sparse matrix, define a function that computes the expectation value of the magnetisation along the $x$-axis given a state vector. The magnetisation operator is \n",
        "$$ m^x = \\frac{1}{N}\\sum_{i=1}^N \\sigma_i^x $$\n",
        "\n",
        "Measure and plot $\\langle m^x \\rangle$ in the groundstate. \n",
        "\n",
        "Note: For small $h$ you may find that you have a pair of degenerate groundstates. You will have to account for this appropriately. "
      ],
      "id": "6c12ca2d"
    },
    {
      "cell_type": "code",
      "execution_count": null,
      "metadata": {
        "id": "a370c27a"
      },
      "outputs": [],
      "source": [
        "def ExpValueMx( N, h ):\n",
        "    # Your code goes here\n",
        "    H = sparse.csr_matrix(np.zeros((2**N, 2**N)))\n",
        "    for i in range(N):\n",
        "      H += ft.reduce(sparse.kron, [sparse.identity(2**i), sparseX, sparse.identity(2**(N-i-1))]) \n",
        "    m_x = H/N\n",
        "    expVal = []\n",
        "    for i in range(len(h)):\n",
        "      psi = spsl.eigsh(SparseHamiltonian(N, h=h[i]), k=1, which='SA')[1]\n",
        "      expVal.append((psi.transpose() @ m_x @ psi)[0][0])\n",
        "    return expVal"
      ],
      "id": "a370c27a"
    },
    {
      "cell_type": "code",
      "source": [
        "ExpValueMx(3,[1,1.1])"
      ],
      "metadata": {
        "colab": {
          "base_uri": "https://localhost:8080/"
        },
        "id": "Dwjl7woUrLj8",
        "outputId": "67b6b57d-9259-4165-cb26-9f6fea482714"
      },
      "id": "Dwjl7woUrLj8",
      "execution_count": null,
      "outputs": [
        {
          "output_type": "execute_result",
          "data": {
            "text/plain": [
              "[0.6666666666666665, 0.7129965316343334]"
            ]
          },
          "metadata": {},
          "execution_count": 55
        }
      ]
    },
    {
      "cell_type": "code",
      "source": [
        "hh = np.logspace(-2, 2, 10)\n",
        "Ns = np.arange(2, 10, 1)\n",
        "\n",
        "for N in Ns:\n",
        "  E = ExpValueMx(N,hh)\n",
        "  plt.plot(hh, E, label=str(N))\n",
        "  plt.legend(prop={'size': 7})\n",
        "  plt.title('Mx expectation of groundstate against h for differnt N')\n",
        "  plt.xlabel('h')\n",
        "  plt.ylabel('Mx')\n",
        "  plt.xscale('log')"
      ],
      "metadata": {
        "colab": {
          "base_uri": "https://localhost:8080/",
          "height": 299
        },
        "id": "LLqYI-8knfHj",
        "outputId": "d24466b7-dd26-4795-ba13-7b0a5806db92"
      },
      "id": "LLqYI-8knfHj",
      "execution_count": null,
      "outputs": [
        {
          "output_type": "display_data",
          "data": {
            "text/plain": [
              "<Figure size 432x288 with 1 Axes>"
            ],
            "image/png": "[encoded data removed]"
          },
          "metadata": {
            "needs_background": "light"
          }
        }
      ]
    },
    {
      "cell_type": "markdown",
      "metadata": {
        "id": "1d91f313"
      },
      "source": [
        "### Task 11:\n",
        "What about the magnetization along the $z$-axis? This operator is defined by \n",
        "$$ m^z = \\frac{1}{N}\\sum_{i=1}^N \\sigma_i^z $$\n",
        "\n",
        "Write a function that uses tensor operations to act with $m^z$ on a state. (This should look something like the function \"ActWithH\" we defined above.)\n",
        "\n",
        "Use this to measure and plot $\\langle m^z \\rangle$ as a function of $h$ in the groundstate."
      ],
      "id": "1d91f313"
    },
    {
      "cell_type": "code",
      "execution_count": null,
      "metadata": {
        "id": "898da5cd"
      },
      "outputs": [],
      "source": [
        "def ActWithmZ(psi, N):\n",
        "  \n",
        "    # Your code goes here.\n",
        "    hloc = - (1/N) * np.kron(sigmaZ, I).reshape((2,2,2,2))\n",
        "    # hloc = LocalHamiltonian(h).reshape((2,2,2,2))\n",
        "    d = hloc.shape[0]\n",
        "    psiOut = np.zeros(psi.size)\n",
        "    for k in range(N - 1):\n",
        "    # apply local Hamiltonian terms to sites [k,k+1]\n",
        "        psiOut += np.tensordot(hloc.reshape(d**2, d**2),\n",
        "                           psi.reshape(d**k, d**2, d**(N - 2 - k)),\n",
        "                           axes=[[1], [1]]).transpose(1, 0, 2).reshape(d**N)\n",
        "\n",
        "    # apply periodic term\n",
        "    psiOut += np.tensordot(hloc.reshape(d, d, d, d),\n",
        "                           psi.reshape(d, d**(N - 2), d),\n",
        "                           axes=[[2, 3], [2, 0]]\n",
        "                           ).transpose(1, 2, 0).reshape(d**N)\n",
        "\n",
        "    return psiOut  "
      ],
      "id": "898da5cd"
    },
    {
      "cell_type": "code",
      "execution_count": null,
      "metadata": {
        "id": "6721c830"
      },
      "outputs": [],
      "source": [
        "def ExpValueMz(N, h):\n",
        "    # Your code goes here.\n",
        "    expVal = []\n",
        "    for i in range(len(h)):\n",
        "      psi = spsl.eigsh(LinearHamiltonian(N, h=h[i]), k=2, which='SA')[1]\n",
        "      e1 = psi[:,0].transpose() @ ActWithmZ(psi[:,0], N)\n",
        "      e2 = psi[:,1].transpose() @ ActWithmZ(psi[:,1], N)\n",
        "      expVal.append(0.5*(e1+e2))\n",
        "    return expVal\n"
      ],
      "id": "6721c830"
    },
    {
      "cell_type": "code",
      "source": [
        "ExpValueMz(3, [0])"
      ],
      "metadata": {
        "colab": {
          "base_uri": "https://localhost:8080/"
        },
        "id": "PCoBKXMXqjda",
        "outputId": "688c9570-b371-4462-d6f4-564a2e9be1d2"
      },
      "id": "PCoBKXMXqjda",
      "execution_count": null,
      "outputs": [
        {
          "output_type": "execute_result",
          "data": {
            "text/plain": [
              "[-1.6653345369377348e-16]"
            ]
          },
          "metadata": {},
          "execution_count": 34
        }
      ]
    },
    {
      "cell_type": "code",
      "execution_count": null,
      "metadata": {
        "id": "dd6e165f",
        "colab": {
          "base_uri": "https://localhost:8080/",
          "height": 299
        },
        "outputId": "4251acbf-5186-4eed-f5fa-f053855192da"
      },
      "outputs": [
        {
          "output_type": "display_data",
          "data": {
            "text/plain": [
              "<Figure size 432x288 with 1 Axes>"
            ],
            "image/png": "[encoded data removed]"
          },
          "metadata": {
            "needs_background": "light"
          }
        }
      ],
      "source": [
        "hh = np.logspace(-2, 2, 10)\n",
        "Ns = np.arange(2, 10, 1)\n",
        "\n",
        "for N in Ns:\n",
        "  E = ExpValueMz(N,hh)\n",
        "  plt.plot(hh, E, label=str(N))\n",
        "  plt.legend(prop={'size': 7})\n",
        "  plt.title('Mz expectation of groundstate against h for differnt N')\n",
        "  plt.xlabel('h')\n",
        "  plt.ylabel('Mz')\n",
        "  plt.xscale('log')"
      ],
      "id": "dd6e165f"
    },
    {
      "cell_type": "markdown",
      "metadata": {
        "id": "a266cd5d"
      },
      "source": [
        "### Task 12:\n",
        "$\\langle m^z \\rangle$ does not look particularly exciting in the ground state. Can you add a small perturbation to your Hamiltonian so that the ground state of the chain is the all-up state in the $h\\to 0$ limit? Make a new function below to construct the perturbed Hamiltonian, and make another plot of $\\langle m^z \\rangle$."
      ],
      "id": "a266cd5d"
    },
    {
      "cell_type": "code",
      "source": [
        "def LocalHamiltonian_pert(h, g):\n",
        "    # Your code goes here\n",
        "    Hloc = -np.kron(sigmaZ, sigmaZ) - (1/2) * h * (np.kron(sigmaX, I) + np.kron(I, sigmaX)) + g * np.kron(sigmaZ, I)\n",
        "    return Hloc\n",
        "\n",
        "def ActWithH_pert(psiIn, N, h=1. , g=1.):\n",
        "    \n",
        "    hloc = LocalHamiltonian_pert(h, g).reshape((2,2,2,2))\n",
        "    d = hloc.shape[0]\n",
        "    psiOut = np.zeros(psiIn.size)\n",
        "    for k in range(N - 1):\n",
        "    # apply local Hamiltonian terms to sites [k,k+1]\n",
        "        psiOut += np.tensordot(hloc.reshape(d**2, d**2),\n",
        "                           psiIn.reshape(d**k, d**2, d**(N - 2 - k)),\n",
        "                           axes=[[1], [1]]).transpose(1, 0, 2).reshape(d**N)\n",
        "\n",
        "    # apply periodic term\n",
        "    psiOut += np.tensordot(hloc.reshape(d, d, d, d),\n",
        "                           psiIn.reshape(d, d**(N - 2), d),\n",
        "                           axes=[[2, 3], [2, 0]]\n",
        "                           ).transpose(1, 2, 0).reshape(d**N)\n",
        "\n",
        "    return psiOut  \n",
        "\n",
        "def LinearHamiltonian_pert(N, h=1, g=1):\n",
        "  def Act(psiIn):\n",
        "    return ActWithH_pert(psiIn, N=N, h=h, g=g)\n",
        "  H = spsl.LinearOperator((2**N, 2**N), matvec=Act)\n",
        "  return H"
      ],
      "metadata": {
        "id": "IWvn0FlOmFgI"
      },
      "id": "IWvn0FlOmFgI",
      "execution_count": null,
      "outputs": []
    },
    {
      "cell_type": "code",
      "execution_count": null,
      "metadata": {
        "id": "c7d8a8aa",
        "colab": {
          "base_uri": "https://localhost:8080/",
          "height": 299
        },
        "outputId": "5143b080-699b-497e-a9cc-05e1e9af2139"
      },
      "outputs": [
        {
          "output_type": "display_data",
          "data": {
            "text/plain": [
              "<Figure size 432x288 with 1 Axes>"
            ],
            "image/png": "[encoded data removed]"
          },
          "metadata": {
            "needs_background": "light"
          }
        }
      ],
      "source": [
        "def ActWithmZ_pert(psi, N, h):\n",
        "  \n",
        "    # Your code goes here.\n",
        "    hloc = - (1/N) * np.kron(sigmaZ, I).reshape((2,2,2,2))\n",
        "    # hloc = LocalHamiltonian(h).reshape((2,2,2,2))\n",
        "    d = hloc.shape[0]\n",
        "    psiOut = np.zeros(psi.size)\n",
        "    for k in range(N - 1):\n",
        "    # apply local Hamiltonian terms to sites [k,k+1]\n",
        "        psiOut += np.tensordot(hloc.reshape(d**2, d**2),\n",
        "                           psi.reshape(d**k, d**2, d**(N - 2 - k)),\n",
        "                           axes=[[1], [1]]).transpose(1, 0, 2).reshape(d**N)\n",
        "\n",
        "    # apply periodic term\n",
        "    psiOut += np.tensordot(hloc.reshape(d, d, d, d),\n",
        "                           psi.reshape(d, d**(N - 2), d),\n",
        "                           axes=[[2, 3], [2, 0]]\n",
        "                           ).transpose(1, 2, 0).reshape(d**N)\n",
        "\n",
        "    return psiOut  \n",
        "\n",
        "def ExpValueMz_pert(N, h, g):\n",
        "    # Your code goes here.\n",
        "    expVal = []\n",
        "    for i in range(len(h)):\n",
        "      psi = spsl.eigsh(LinearHamiltonian_pert(N, h=h[i], g=g), k=1, which='SA')[1]\n",
        "      e = psi.transpose() @ ActWithmZ_pert(psi.transpose()[0], N, h[i])\n",
        "      expVal.append(e[0])\n",
        "    return expVal\n",
        "\n",
        "hh = np.logspace(-2, 2, 10)\n",
        "Ns = np.arange(2, 10, 1)\n",
        "g = 0.001\n",
        "for N in Ns:\n",
        "  E = ExpValueMz_pert(N,hh, g)\n",
        "  plt.plot(hh, E, label=str(N))\n",
        "  plt.legend(prop={'size': 7})\n",
        "  plt.title('Mz expectation of perturbed groundstate against h for differnt N (g = 0.01)')\n",
        "  plt.xlabel('h')\n",
        "  plt.ylabel('Mz')\n",
        "  plt.xscale('log')"
      ],
      "id": "c7d8a8aa"
    }
  ],
  "metadata": {
    "colab": {
      "provenance": []
    },
    "kernelspec": {
      "display_name": "Python 3 (ipykernel)",
      "language": "python",
      "name": "python3"
    },
    "language_info": {
      "codemirror_mode": {
        "name": "ipython",
        "version": 3
      },
      "file_extension": ".py",
      "mimetype": "text/x-python",
      "name": "python",
      "nbconvert_exporter": "python",
      "pygments_lexer": "ipython3",
      "version": "3.7.11"
    }
  },
  "nbformat": 4,
  "nbformat_minor": 5
}