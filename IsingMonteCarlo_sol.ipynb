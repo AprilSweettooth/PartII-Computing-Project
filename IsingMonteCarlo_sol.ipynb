{
  "cells": [
    {
      "cell_type": "markdown",
      "metadata": {
        "id": "LG4UA4TiUsls"
      },
      "source": [
        "## Setup"
      ]
    },
    {
      "cell_type": "code",
      "execution_count": 61,
      "metadata": {
        "id": "pNaSbXY7Uslw"
      },
      "outputs": [],
      "source": [
        "import numpy as np\n",
        "rng = np.random.default_rng()  \n",
        "import matplotlib.pylab as plt"
      ]
    },
    {
      "cell_type": "markdown",
      "metadata": {
        "id": "1m9cEM20Uslx"
      },
      "source": [
        "## Helpful recources\n",
        "\n",
        "https://hef.ru.nl/~tbudd/mct/lectures/markov_chain_monte_carlo.html\n",
        "\n",
        "https://hef.ru.nl/~tbudd/mct/lectures/cluster_algorithms.html"
      ]
    },
    {
      "cell_type": "markdown",
      "metadata": {
        "id": "FjpFMnOVUsly"
      },
      "source": [
        "## The 2D Ising model\n",
        "The Ising model is a classical way of describing ferromagnetism using simplified spin-spin interactions. The 2D version of the Ising model considers an $w$ by $w$ square lattice, resulting in $N=w^2$ spin sites. If the lattice is given periodic boundary conditions, as is conventional, each spin will have exactly 4 neighbouring spins. The energy of the system is then given by\n",
        "\n",
        "$ E = -J \\sum_i \\sum_j s_i s_j - \\mu H \\sum^{N}_{i=1} s_i $\n",
        "\n",
        "where we sum over all spins $s_i$ and their neighbours $s_j$ with exchange energy $J$, magnetic moment $\\mu$, and externally applied magnetic field $H$.\n",
        "\n",
        "The most interesting variable of the system is the relative magnetisation of the complete lattice \n",
        "\n",
        "$M = \\frac{1}{N}\\sum_i^N s_i$\n",
        "\n",
        "or the expected total magnetisation\n",
        "\n",
        "$\\mathbb{E}[M(\\mathbf{s})]=\\sum_{s \\in\\{-1,1\\}^N}M(s) p_{\\mathbf{s}}(s)$\n",
        "\n",
        "with $p_{\\mathbf{s}}(s)$ the probability mass function. The magnetisation shows a very strong dependence on the temperature as well as the externally applied magnetic field $H$. The magnetisation can also show a high variance. \n",
        "\n",
        "The analytical approach to calculate compute these expected values would be to use the probability mass function \n",
        "\n",
        "$p_{\\mathbf{s}}(s)=\\frac{1}{Z} e^{-\\beta E}$\n",
        "\n",
        "with partition function\n",
        "\n",
        "$Z=\\sum_{s \\in\\{-1,1\\}^N} e^{-\\beta E}$\n",
        "\n",
        "and inverse temperature $\\beta = \\frac{1}{k_bT}$. However, computing this type of partition function quickly becomes arduous or simply infeasible for a lattice with any interesting number of spins, especially if the variance is also high. We thus typically use computational methods to investigate such systems and estimate the magnetisation $M$."
      ]
    },
    {
      "cell_type": "markdown",
      "metadata": {
        "id": "-enypUk9Uslz"
      },
      "source": [
        "## A Monte Carlo model\n",
        "The first steps of making the model will be to construct the lattice and several functions that compute essential properties of the system."
      ]
    },
    {
      "cell_type": "code",
      "execution_count": 2,
      "metadata": {
        "id": "C7vsWUzUUslz"
      },
      "outputs": [],
      "source": [
        "def init_lattice(width,type):\n",
        "    '''Produce an initial lattice with spins. Type 1 gives all spins 1, type 0 gives a random spins, type -1 gives all spins -1. Captures invalid types.'''\n",
        "    # TO DO\n",
        "    if type == 1:\n",
        "      return np.full((width, width), 1)\n",
        "    elif type == -1:\n",
        "      return np.full((width, width), -1)\n",
        "    elif type == 0:\n",
        "      return np.random.choice([-1, 1], size=(width,width))\n",
        "    else:\n",
        "      print('invalid input')\n",
        "      return 0\n",
        "def neighbouring_sites(i,j,width):\n",
        "    '''Return the coordinates of the 4 sites adjacent to [i,j] on an width*width lattice. Takes into account periodic boundary conditions.'''\n",
        "    # TO DO\n",
        "    neighbour = []\n",
        "    neighbour.append([(i+1)%width, j]) \n",
        "    neighbour.append([(i-1)%width, j]) \n",
        "    neighbour.append([i, (j+1)%width]) \n",
        "    neighbour.append([i, (j-1)%width]) \n",
        "    return neighbour\n",
        "def neighbouring_spins_sum(i,j,lattice,width):\n",
        "    '''Sums the spins of all neighbours of the spin at [i,j].'''\n",
        "    # TO DO\n",
        "    # print([lattice[site] for site in neighbouring_sites(i,j,width)])\n",
        "    return np.sum([lattice[site[0], site[1]] for site in neighbouring_sites(i,j,width)])\n",
        "def compute_magnetisation(lattice):\n",
        "    '''Computes the magnetisation of the lattice.'''\n",
        "    # TO DO (np.sum() may be useful)\n",
        "    return (1/len(lattice)**2) * np.sum(lattice)\n",
        "def plot_lattice(lattice,ax,title):\n",
        "    '''Plot the lattice configuration.'''\n",
        "    ax.matshow(lattice, vmin=-1, vmax=1, cmap=plt.cm.binary)\n",
        "    ax.title.set_text(title)\n",
        "    ax.set_yticklabels([])\n",
        "    ax.set_xticklabels([])\n",
        "    ax.set_yticks([])\n",
        "    ax.set_xticks([])"
      ]
    },
    {
      "cell_type": "code",
      "execution_count": 3,
      "metadata": {
        "colab": {
          "base_uri": "https://localhost:8080/"
        },
        "id": "gVUUXRjSjzrV",
        "outputId": "4bace48f-6d86-4feb-8314-cded177a6919"
      },
      "outputs": [
        {
          "output_type": "stream",
          "name": "stdout",
          "text": [
            "lattice: [[ 1 -1  1 -1  1 -1]\n",
            " [ 1  1 -1  1 -1 -1]\n",
            " [ 1 -1 -1 -1 -1 -1]\n",
            " [ 1 -1  1  1  1 -1]\n",
            " [ 1 -1  1  1  1  1]\n",
            " [ 1  1  1  1  1 -1]]\n",
            "top-left corner site neighbor magnitization: 0\n",
            "total magnitization: 0.16666666666666666\n"
          ]
        }
      ],
      "source": [
        "# sanity check\n",
        "width = 6\n",
        "lattice = init_lattice(width,0)\n",
        "print('lattice:', lattice)\n",
        "print('top-left corner site neighbor magnitization:', neighbouring_spins_sum(0,0,lattice,width))\n",
        "print('total magnitization:', compute_magnetisation(lattice))"
      ]
    },
    {
      "cell_type": "code",
      "execution_count": 4,
      "metadata": {
        "colab": {
          "base_uri": "https://localhost:8080/"
        },
        "id": "4rqHNfkTpS88",
        "outputId": "2e5cab5f-c729-4dab-d174-269744df3e75"
      },
      "outputs": [
        {
          "output_type": "execute_result",
          "data": {
            "text/plain": [
              "-1.0"
            ]
          },
          "metadata": {},
          "execution_count": 4
        }
      ],
      "source": [
        "compute_magnetisation(init_lattice(12,-1))"
      ]
    },
    {
      "cell_type": "markdown",
      "metadata": {
        "id": "ELgw0aSWrzT9"
      },
      "source": [
        "Note that 1 is black and -1 is white"
      ]
    },
    {
      "cell_type": "markdown",
      "metadata": {
        "id": "4ktCWbu2Usl0"
      },
      "source": [
        "## The Metropolis-Hastings algorithm\n",
        "In order to be physically accurate, the transitions rates in our system have to satisfy detailed balance. The Metropolis-Hastings algorithm provides us with a way to select such transition rates without a need for knowing the normalisation of the probability distribution. \n",
        "\n",
        "$P(s_i \\rightarrow -s_i) = \\min \\left(1, e^{-(\\beta E_{-s_i}-\\beta E_{s_i})}\\right) = \\min \\left(1, e^{-\\beta \\Delta E}\\right) = \\begin{cases}1 & \\text { if } \\Delta E \\leq 0 \\\\ e^{-\\beta\\Delta E} & \\text { if } \\Delta E > 0 \\end{cases}$\n",
        "\n",
        "where $\\Delta E$ is the change in energy of the total lattice.\n",
        "\n",
        "$\\Delta E = 2J s_i \\sum_j s_j + 2 \\mu H s_i $\n",
        "\n",
        "With this we can set up way to evolve the system. For convenience, it may be useful to define the interaction energies in terms of $\\beta J$ and $\\beta \\mu H$."
      ]
    },
    {
      "cell_type": "code",
      "execution_count": 5,
      "metadata": {
        "id": "UPHB4IF9Usl1"
      },
      "outputs": [],
      "source": [
        "def compute_betaDeltaE(i,j,lattice,width,betaJ,betaMuH):\n",
        "    '''Computes the energy difference between the old and new state if spin [i,j] would be flipped.'''\n",
        "    # TO DO\n",
        "    E = 2 * betaJ * lattice[i,j] * neighbouring_spins_sum(i,j, lattice, width) + 2 * betaMuH * lattice[i,j]\n",
        "    return E\n",
        "def attempt_spin_flip(lattice,width,betaJ,betaMuH):\n",
        "    '''Applies the Metropolis-Hastings algorithm to try and flip a spin.'''\n",
        "    # TO DO\n",
        "    w = len(lattice)\n",
        "    i,j = rng.integers(0,w,2)\n",
        "    if compute_betaDeltaE(i,j,lattice,width,betaJ,betaMuH) <= 0 or rng.random() < np.exp(-1 * compute_betaDeltaE(i,j,lattice,width,betaJ,betaMuH)):\n",
        "        lattice[i,j] *= -1\n",
        "    return lattice\n",
        "def evolve_and_plot(lattice,betaJ,betaMuH,plot_times):\n",
        "    '''Evolves the lattice using the Metropolis-Hastings algorithm and plots the lattice at different times.'''\n",
        "    # TO DO\n",
        "    fig, ax = plt.subplots(1,len(plot_times),figsize=(12,4))\n",
        "    for t in range(plot_times[-1]+1):\n",
        "        # TO DO\n",
        "        if t in plot_times:\n",
        "            plot_lattice(lattice,ax[plot_times.index(t)],\"t = {}\".format(t))\n",
        "        attempt_spin_flip(lattice,len(lattice),betaJ,betaMuH)\n",
        "    plt.show()\n",
        "\n",
        "def evolve_and_compute_M(lattice,betaJ,betaMuH,avg_times):\n",
        "    '''Evolves the lattice using the Metropolis-Hastings algorithm and returns the average magnetisation computed using different time steps.'''\n",
        "    # TO DO\n",
        "    magnetisation = []\n",
        "    for t in range(avg_times[-1]+1):\n",
        "        if t in avg_times:\n",
        "            magnetisation.append(compute_magnetisation(lattice))\n",
        "        attempt_spin_flip(lattice, len(lattice), betaJ, betaMuH)\n",
        "    return magnetisation"
      ]
    },
    {
      "cell_type": "markdown",
      "metadata": {
        "id": "pQybg7uVUsl1"
      },
      "source": [
        "## Testing the model\n",
        "Evolve the system and plot it at various time steps to see if it appears to behave properly. Let's first get a feel for what a random lattice really looks like. Consider a system with no coupling $\\beta J = 0$ and external magnetic field $\\beta \\mu H = 0$. Try both starting with a random lattice and a lattice with all spins in one direction."
      ]
    },
    {
      "cell_type": "code",
      "execution_count": null,
      "metadata": {
        "colab": {
          "base_uri": "https://localhost:8080/",
          "height": 346
        },
        "id": "Mp-woQPcUsl2",
        "outputId": "f37ce065-ad37-4e0d-dd4e-270c566eb91a"
      },
      "outputs": [
        {
          "name": "stdout",
          "output_type": "stream",
          "text": [
            "[[-1  1 -1  1 -1  1 -1 -1  1 -1 -1 -1]\n",
            " [ 1 -1  1 -1 -1  1 -1 -1 -1  1 -1 -1]\n",
            " [-1 -1 -1 -1  1  1 -1  1 -1  1 -1 -1]\n",
            " [ 1 -1  1 -1  1 -1 -1 -1 -1 -1  1  1]\n",
            " [-1  1  1  1  1 -1 -1 -1  1  1  1  1]\n",
            " [ 1 -1 -1 -1  1  1  1 -1 -1 -1 -1 -1]\n",
            " [ 1 -1  1 -1 -1  1 -1  1 -1 -1 -1 -1]\n",
            " [ 1  1  1 -1 -1  1  1 -1 -1 -1 -1  1]\n",
            " [ 1  1 -1  1 -1 -1 -1  1  1 -1 -1  1]\n",
            " [-1  1 -1  1 -1  1 -1 -1 -1 -1  1 -1]\n",
            " [-1  1  1 -1  1 -1 -1 -1 -1 -1  1 -1]\n",
            " [ 1 -1  1  1 -1  1 -1  1  1 -1 -1  1]]\n"
          ]
        },
        {
          "data": {
            "image/png": "[encoded data removed]",
            "text/plain": [
              "<Figure size 864x288 with 7 Axes>"
            ]
          },
          "metadata": {},
          "output_type": "display_data"
        }
      ],
      "source": [
        "# Testing the Metropolis-Hastings algorithm\n",
        "plot_times = [0,1,10,100,1000,10000,100000]\n",
        "\n",
        "# TO DO\n",
        "# random matrix\n",
        "lattice_test = init_lattice(width=12, type=0)\n",
        "betaJ_test = 0\n",
        "betaMuH_test = 0\n",
        "print(lattice_test)\n",
        "evolve_and_plot(lattice_test,betaJ_test,betaMuH_test,plot_times)"
      ]
    },
    {
      "cell_type": "code",
      "execution_count": null,
      "metadata": {
        "colab": {
          "base_uri": "https://localhost:8080/",
          "height": 132
        },
        "id": "EnzvuoBzOQsD",
        "outputId": "173ad807-b100-4365-d42a-83b083870b88"
      },
      "outputs": [
        {
          "data": {
            "image/png": "[encoded data removed]",
            "text/plain": [
              "<Figure size 864x288 with 7 Axes>"
            ]
          },
          "metadata": {},
          "output_type": "display_data"
        }
      ],
      "source": [
        "# all up\n",
        "lattice_test_up = init_lattice(width=12, type=1)\n",
        "evolve_and_plot(lattice_test_up,betaJ_test,betaMuH_test,plot_times)"
      ]
    },
    {
      "cell_type": "markdown",
      "metadata": {
        "id": "-yYPSTbBUsl2"
      },
      "source": [
        "## Limiting case 1: only an external field\n",
        "When $beta J=0$ there is no coupling. In such a case, only thermal motion and the external magnetic field affect the flipping of the spins. Do a few simulations with $-3 < \\beta \\mu H < 3$ and observe what happends. Again try both starting with a random lattice and a lattice with all spins in one direction. Qualitatively explain the system behaviour."
      ]
    },
    {
      "cell_type": "markdown",
      "metadata": {
        "id": "1uxbZV3ybC-P"
      },
      "source": [
        "## Random matrix"
      ]
    },
    {
      "cell_type": "markdown",
      "metadata": {
        "id": "5bO_mkcebO_Y"
      },
      "source": [
        "$\\beta \\mu H = 0.1$"
      ]
    },
    {
      "cell_type": "code",
      "execution_count": null,
      "metadata": {
        "colab": {
          "base_uri": "https://localhost:8080/",
          "height": 360
        },
        "id": "0HCcwClbUsl3",
        "outputId": "b966d683-847d-470b-be51-60bcc3289c76"
      },
      "outputs": [
        {
          "name": "stdout",
          "output_type": "stream",
          "text": [
            "[[-1 -1 -1 -1  1 -1 -1  1 -1 -1  1  1]\n",
            " [-1 -1 -1  1  1 -1 -1  1 -1  1 -1  1]\n",
            " [ 1  1 -1  1  1  1 -1  1 -1 -1 -1 -1]\n",
            " [ 1 -1  1 -1  1 -1 -1  1  1  1  1 -1]\n",
            " [-1  1  1  1 -1  1  1  1  1 -1 -1 -1]\n",
            " [ 1  1 -1 -1 -1 -1  1  1  1  1  1  1]\n",
            " [ 1 -1 -1  1  1 -1 -1 -1 -1  1 -1  1]\n",
            " [ 1 -1 -1  1  1 -1 -1  1 -1 -1  1 -1]\n",
            " [-1 -1 -1  1 -1 -1  1  1  1  1 -1  1]\n",
            " [ 1 -1  1 -1 -1 -1 -1 -1 -1  1 -1  1]\n",
            " [ 1 -1  1  1  1 -1 -1 -1 -1 -1  1  1]\n",
            " [-1 -1 -1  1 -1 -1  1 -1 -1 -1  1 -1]]\n"
          ]
        },
        {
          "data": {
            "image/png": "[encoded data removed]",
            "text/plain": [
              "<Figure size 864x288 with 6 Axes>"
            ]
          },
          "metadata": {},
          "output_type": "display_data"
        }
      ],
      "source": [
        "plot_times = [0,10,100,1000,10000,100000]\n",
        "\n",
        "# TO DO\n",
        "random_lattice = init_lattice(12, type=0)\n",
        "print(random_lattice)\n",
        "evolve_and_plot(lattice=random_lattice.copy(),betaJ=0,betaMuH=0.1,plot_times=plot_times)"
      ]
    },
    {
      "cell_type": "markdown",
      "metadata": {
        "id": "rNyJtUzEbUBP"
      },
      "source": [
        "$\\beta \\mu H = 2.5$"
      ]
    },
    {
      "cell_type": "code",
      "execution_count": null,
      "metadata": {
        "colab": {
          "base_uri": "https://localhost:8080/",
          "height": 132
        },
        "id": "4ai2slj1a-gR",
        "outputId": "ef110a7e-889e-4e02-c0d4-dbd3669868f7"
      },
      "outputs": [
        {
          "data": {
            "image/png": "[encoded data removed]",
            "text/plain": [
              "<Figure size 864x288 with 7 Axes>"
            ]
          },
          "metadata": {},
          "output_type": "display_data"
        }
      ],
      "source": [
        "evolve_and_plot(lattice=random_lattice.copy(),betaJ=0,betaMuH=2.5,plot_times=plot_times+[100001])"
      ]
    },
    {
      "cell_type": "markdown",
      "metadata": {
        "id": "J0rEaeHKsP9m"
      },
      "source": [
        "For a random spin configuration, when $\\beta \\mu H > 0$, if spin is up then $\\Delta E >0$, it is 100% that the spin direction will change. While for spin down, there is a probabiity associated with the thermal&magnetic effect. The larger the $\\beta \\mu H$ is, comparing 2.5 to 0.1, the less likely the spin will flip. To summarize, small $\\beta \\mu H $ value will randomize the spin state and stay random because it's a large probabilistic value but large $\\beta \\mu H $ can 'de-excite' all state to spin down and stay up as demonstrated above."
      ]
    },
    {
      "cell_type": "markdown",
      "metadata": {
        "id": "aLwRSCmaikMy"
      },
      "source": [
        "$\\beta \\mu H = -0.1$"
      ]
    },
    {
      "cell_type": "code",
      "execution_count": null,
      "metadata": {
        "colab": {
          "base_uri": "https://localhost:8080/",
          "height": 146
        },
        "id": "LhmaN3xQinMP",
        "outputId": "588b1a1f-ab73-412c-c1aa-31bc4209a79a"
      },
      "outputs": [
        {
          "data": {
            "image/png": "[encoded data removed]",
            "text/plain": [
              "<Figure size 864x288 with 6 Axes>"
            ]
          },
          "metadata": {},
          "output_type": "display_data"
        }
      ],
      "source": [
        "evolve_and_plot(lattice=random_lattice.copy(),betaJ=0,betaMuH=-0.1,plot_times=plot_times)"
      ]
    },
    {
      "cell_type": "markdown",
      "metadata": {
        "id": "GmnYHx6milwx"
      },
      "source": [
        "$\\beta \\mu H = -2.5$"
      ]
    },
    {
      "cell_type": "code",
      "execution_count": null,
      "metadata": {
        "colab": {
          "base_uri": "https://localhost:8080/",
          "height": 132
        },
        "id": "QkSqP15Gioy7",
        "outputId": "83b2ff23-2ae1-4c81-a66d-4ed590af31c9"
      },
      "outputs": [
        {
          "data": {
            "image/png": "[encoded data removed]",
            "text/plain": [
              "<Figure size 864x288 with 7 Axes>"
            ]
          },
          "metadata": {},
          "output_type": "display_data"
        }
      ],
      "source": [
        "evolve_and_plot(lattice=random_lattice.copy(),betaJ=0,betaMuH=-2.5,plot_times=plot_times+[100001])"
      ]
    },
    {
      "cell_type": "markdown",
      "metadata": {
        "id": "-zebnbTguHxp"
      },
      "source": [
        "When $\\beta \\mu H < 0$, the opposite happens: if spin is down, it will flip while for up, this depends on $\\beta \\mu H$. And the larger the value the less likely the spin state changes because of external field. So larger $\\beta \\mu H $ makes it more likely to stay in up state as above."
      ]
    },
    {
      "cell_type": "markdown",
      "metadata": {
        "id": "F4lwBrs3bciT"
      },
      "source": [
        "## All spin down case"
      ]
    },
    {
      "cell_type": "markdown",
      "metadata": {
        "id": "wcNkyTHVbevO"
      },
      "source": [
        "$\\beta \\mu H = 2.5$"
      ]
    },
    {
      "cell_type": "code",
      "execution_count": null,
      "metadata": {
        "colab": {
          "base_uri": "https://localhost:8080/",
          "height": 146
        },
        "id": "Yrzkn3FMbhJH",
        "outputId": "7d83ed98-0e33-4a7c-8244-8c51000aa056"
      },
      "outputs": [
        {
          "data": {
            "image/png": "[encoded data removed]",
            "text/plain": [
              "<Figure size 864x288 with 6 Axes>"
            ]
          },
          "metadata": {},
          "output_type": "display_data"
        }
      ],
      "source": [
        "evolve_and_plot(lattice=init_lattice(12, type=-1),betaJ=0,betaMuH=2.5,plot_times=plot_times)"
      ]
    },
    {
      "cell_type": "markdown",
      "metadata": {
        "id": "58-XJjWXxGJI"
      },
      "source": [
        "once flipped up(negative $\\Delta E$ flips 100%) with large $\\beta \\mu H$ it is hard to flip back because of exponentially small probability."
      ]
    },
    {
      "cell_type": "markdown",
      "metadata": {
        "id": "hcrnhMWYbgQ4"
      },
      "source": [
        "$\\beta \\mu H = -2.5$"
      ]
    },
    {
      "cell_type": "code",
      "execution_count": null,
      "metadata": {
        "colab": {
          "base_uri": "https://localhost:8080/",
          "height": 146
        },
        "id": "_f6TmlOlbi3B",
        "outputId": "f1b360e7-c885-4d49-d5ef-702f34a107b2"
      },
      "outputs": [
        {
          "data": {
            "image/png": "[encoded data removed]",
            "text/plain": [
              "<Figure size 864x288 with 6 Axes>"
            ]
          },
          "metadata": {},
          "output_type": "display_data"
        }
      ],
      "source": [
        "evolve_and_plot(lattice=init_lattice(12, type=-1),betaJ=0,betaMuH=-2.5,plot_times=plot_times)"
      ]
    },
    {
      "cell_type": "markdown",
      "metadata": {
        "id": "xOwV5zD_xi4r"
      },
      "source": [
        "Opposite to above and with energy being negative it is almost never going up again."
      ]
    },
    {
      "cell_type": "markdown",
      "metadata": {
        "id": "VPUTkQCrbvGb"
      },
      "source": [
        "## All spin up case"
      ]
    },
    {
      "cell_type": "markdown",
      "metadata": {
        "id": "tCVy4lnvbxZ9"
      },
      "source": [
        "$\\beta \\mu H = 1$"
      ]
    },
    {
      "cell_type": "code",
      "execution_count": null,
      "metadata": {
        "colab": {
          "base_uri": "https://localhost:8080/",
          "height": 146
        },
        "id": "qrxZg-nKb1FM",
        "outputId": "4070e7d1-9666-43c8-c54d-cceaa9ba65da"
      },
      "outputs": [
        {
          "data": {
            "image/png": "[encoded data removed]",
            "text/plain": [
              "<Figure size 864x288 with 6 Axes>"
            ]
          },
          "metadata": {},
          "output_type": "display_data"
        }
      ],
      "source": [
        "evolve_and_plot(lattice=init_lattice(12, type=1),betaJ=0,betaMuH=1,plot_times=plot_times)"
      ]
    },
    {
      "cell_type": "markdown",
      "metadata": {
        "id": "a3rPN1yib0QM"
      },
      "source": [
        "$\\beta \\mu H = -1$"
      ]
    },
    {
      "cell_type": "code",
      "execution_count": null,
      "metadata": {
        "colab": {
          "base_uri": "https://localhost:8080/",
          "height": 146
        },
        "id": "Iz2b5IQOb23j",
        "outputId": "d3b783e6-82c2-498e-d720-0b5a1ead52fc"
      },
      "outputs": [
        {
          "data": {
            "image/png": "[encoded data removed]",
            "text/plain": [
              "<Figure size 864x288 with 6 Axes>"
            ]
          },
          "metadata": {},
          "output_type": "display_data"
        }
      ],
      "source": [
        "evolve_and_plot(lattice=init_lattice(12, type=1),betaJ=0,betaMuH=-1,plot_times=plot_times)"
      ]
    },
    {
      "cell_type": "markdown",
      "metadata": {
        "id": "6kJXsPASxsa_"
      },
      "source": [
        "$\\Delta E >0$ for positive spin up spin and $\\beta \\mu H > 0$, so almst stay up. While some chance for spin flip happen when $\\beta \\mu H < 0$"
      ]
    },
    {
      "cell_type": "markdown",
      "metadata": {
        "id": "jRXPHwhdm0Mv"
      },
      "source": [
        "## Magnitisation"
      ]
    },
    {
      "cell_type": "markdown",
      "metadata": {
        "id": "-HZNPu1TUsl3"
      },
      "source": [
        "In the case of no coupling, an analytical expression for the mean magnetisation $\\langle M\\rangle$ exists. The expression is:\n",
        "\n",
        "$\\langle M\\rangle = \\tanh \\left(\\beta \\mu H \\right)$\n",
        "\n",
        "Show that the Monte Carlo method correctly repoduces the above analytical formula."
      ]
    },
    {
      "cell_type": "code",
      "execution_count": null,
      "metadata": {
        "colab": {
          "base_uri": "https://localhost:8080/",
          "height": 509
        },
        "id": "tPCPIR5hUsl3",
        "outputId": "cec17b32-3714-4f7b-d66e-1f7fbe454c54"
      },
      "outputs": [
        {
          "name": "stdout",
          "output_type": "stream",
          "text": [
            "[[-1 -1 -1  1 -1 -1  1  1 -1 -1 -1  1]\n",
            " [ 1  1 -1  1  1  1  1 -1  1  1  1 -1]\n",
            " [ 1  1 -1 -1  1 -1 -1 -1  1  1 -1 -1]\n",
            " [-1 -1 -1  1 -1 -1  1 -1 -1  1 -1 -1]\n",
            " [-1  1  1 -1 -1 -1 -1 -1  1 -1  1 -1]\n",
            " [ 1 -1 -1  1 -1 -1 -1  1  1  1 -1 -1]\n",
            " [ 1  1  1  1  1  1 -1  1 -1  1 -1 -1]\n",
            " [ 1  1 -1 -1  1  1  1 -1 -1  1 -1  1]\n",
            " [-1  1 -1  1  1 -1  1  1 -1 -1  1  1]\n",
            " [-1  1 -1  1  1  1 -1  1 -1  1  1  1]\n",
            " [ 1 -1 -1  1  1 -1  1 -1 -1  1  1 -1]\n",
            " [-1 -1 -1 -1  1 -1 -1 -1 -1 -1 -1  1]]\n"
          ]
        },
        {
          "data": {
            "image/png": "[encoded data removed]",
            "text/plain": [
              "<Figure size 432x288 with 1 Axes>"
            ]
          },
          "metadata": {},
          "output_type": "display_data"
        }
      ],
      "source": [
        "betaMuHs_analytical = np.linspace(-3,3,100) # betaMuH values to plot\n",
        "M_analytical = np.tanh(betaMuHs_analytical)\n",
        "\n",
        "avg_times = np.arange(10000,100000,1000)\n",
        "# Pick some suitable time points at which to sample your magnetisation. These values should be averaged to get a stable mean\n",
        "\n",
        "# TO DO: Simulate the system at different magnetic field strengths\n",
        "lattice=init_lattice(12, type=0)\n",
        "print(lattice)\n",
        "M = []\n",
        "for b in betaMuHs_analytical:\n",
        "  M.append(np.average(evolve_and_compute_M(lattice,0,b,avg_times)))\n",
        "plt.plot(betaMuHs_analytical, M, 'r', label='Monte Carlo')\n",
        "plt.plot(betaMuHs_analytical, M_analytical, 'black', label='Analytical')\n",
        "plt.xlabel ('Magnetic field strength betaMuH')\n",
        "plt.ylabel ('Magnetisation M')\n",
        "plt.legend(loc='upper left')\n",
        "plt.title('Comparing Monte Carlo to analytical solution of Magnetisation with zero coupling')\n",
        "plt.show()"
      ]
    },
    {
      "cell_type": "markdown",
      "metadata": {
        "id": "-88TQ0SkUsl4"
      },
      "source": [
        "## Limiting case 2: only coupling\n",
        "\n",
        "Now let us investigate coupling without an external magnetic field. Try the same as previously, using different starting conditions, but introduce some ferromagnetic coupling ($\\beta J = 0.2$) or anti-ferromagnetic coupling ($\\beta J = -0.2$). Qualitatively explain the system behaviour."
      ]
    },
    {
      "cell_type": "markdown",
      "metadata": {
        "id": "1fnChH8pm_FM"
      },
      "source": [
        "## All spin up case"
      ]
    },
    {
      "cell_type": "code",
      "execution_count": 40,
      "metadata": {
        "colab": {
          "base_uri": "https://localhost:8080/"
        },
        "id": "jC4IbKMKnPAb",
        "outputId": "1ce60eb4-e2fe-4b72-9da7-e2b3f1275958"
      },
      "outputs": [
        {
          "output_type": "stream",
          "name": "stdout",
          "text": [
            "[[1 1 1 1 1 1 1 1 1 1 1 1]\n",
            " [1 1 1 1 1 1 1 1 1 1 1 1]\n",
            " [1 1 1 1 1 1 1 1 1 1 1 1]\n",
            " [1 1 1 1 1 1 1 1 1 1 1 1]\n",
            " [1 1 1 1 1 1 1 1 1 1 1 1]\n",
            " [1 1 1 1 1 1 1 1 1 1 1 1]\n",
            " [1 1 1 1 1 1 1 1 1 1 1 1]\n",
            " [1 1 1 1 1 1 1 1 1 1 1 1]\n",
            " [1 1 1 1 1 1 1 1 1 1 1 1]\n",
            " [1 1 1 1 1 1 1 1 1 1 1 1]\n",
            " [1 1 1 1 1 1 1 1 1 1 1 1]\n",
            " [1 1 1 1 1 1 1 1 1 1 1 1]]\n"
          ]
        }
      ],
      "source": [
        "spin_up_lattice = init_lattice(12, type=1)\n",
        "print(spin_up_lattice)"
      ]
    },
    {
      "cell_type": "markdown",
      "metadata": {
        "id": "gWtOxd-Gm_FN"
      },
      "source": [
        "ferromagnetic coupling ($\\beta J = 0.2$)"
      ]
    },
    {
      "cell_type": "code",
      "execution_count": null,
      "metadata": {
        "colab": {
          "base_uri": "https://localhost:8080/",
          "height": 146
        },
        "id": "l5w4WfoVm_FN",
        "outputId": "2d7a3d74-5a09-45ae-df41-d170783dbf3b"
      },
      "outputs": [
        {
          "data": {
            "image/png": "[encoded data removed]",
            "text/plain": [
              "<Figure size 864x288 with 6 Axes>"
            ]
          },
          "metadata": {},
          "output_type": "display_data"
        }
      ],
      "source": [
        "evolve_and_plot(lattice=spin_up_lattice.copy(),betaJ=0.2,betaMuH=0,plot_times=plot_times)"
      ]
    },
    {
      "cell_type": "markdown",
      "metadata": {
        "id": "CiDZQ5jMm_FN"
      },
      "source": [
        "antiferromagnetic coupling ($\\beta J = -0.2$)"
      ]
    },
    {
      "cell_type": "code",
      "execution_count": null,
      "metadata": {
        "colab": {
          "base_uri": "https://localhost:8080/",
          "height": 146
        },
        "id": "ZWK5PBjvm_FN",
        "outputId": "f0bec734-aa40-46bd-e37b-0693648206a0"
      },
      "outputs": [
        {
          "data": {
            "image/png": "[encoded data removed]",
            "text/plain": [
              "<Figure size 864x288 with 6 Axes>"
            ]
          },
          "metadata": {},
          "output_type": "display_data"
        }
      ],
      "source": [
        "evolve_and_plot(lattice=spin_up_lattice.copy(),betaJ=-0.2,betaMuH=0,plot_times=plot_times)"
      ]
    },
    {
      "cell_type": "markdown",
      "source": [
        "ferromagnetic coupling ($\\beta J = 1$)"
      ],
      "metadata": {
        "id": "eZfs6sj6rp2c"
      }
    },
    {
      "cell_type": "code",
      "source": [
        "plot_times = [0,10,100,1000,10000,100000]\n",
        "evolve_and_plot(lattice=spin_up_lattice.copy(),betaJ=1,betaMuH=0,plot_times=plot_times)"
      ],
      "metadata": {
        "colab": {
          "base_uri": "https://localhost:8080/",
          "height": 146
        },
        "id": "xWNMDpjlrXD6",
        "outputId": "1e2a1698-4c6c-4842-fb7c-6d70f8d80a62"
      },
      "execution_count": 42,
      "outputs": [
        {
          "output_type": "display_data",
          "data": {
            "text/plain": [
              "<Figure size 864x288 with 6 Axes>"
            ],
            "image/png": "[encoded data removed]"
          },
          "metadata": {}
        }
      ]
    },
    {
      "cell_type": "markdown",
      "source": [
        "note above case the coupling is above critical temperature which gives a net magnetisation of 1 for ferromagnetics"
      ],
      "metadata": {
        "id": "sACvo_hlrt11"
      }
    },
    {
      "cell_type": "markdown",
      "metadata": {
        "id": "JfzGWhiLm8kh"
      },
      "source": [
        "## Random matrix"
      ]
    },
    {
      "cell_type": "markdown",
      "metadata": {
        "id": "yJnNjX82m8kh"
      },
      "source": [
        "ferromagnetic coupling ($\\beta J = 0.2$)"
      ]
    },
    {
      "cell_type": "code",
      "execution_count": null,
      "metadata": {
        "colab": {
          "base_uri": "https://localhost:8080/",
          "height": 146
        },
        "id": "cgHrzVxrm8ki",
        "outputId": "135e0afa-1f48-4ac9-964f-d47f82e46234"
      },
      "outputs": [
        {
          "data": {
            "image/png": "[encoded data removed]",
            "text/plain": [
              "<Figure size 864x288 with 6 Axes>"
            ]
          },
          "metadata": {},
          "output_type": "display_data"
        }
      ],
      "source": [
        "evolve_and_plot(lattice=random_lattice.copy(),betaJ=0.2,betaMuH=0,plot_times=plot_times)"
      ]
    },
    {
      "cell_type": "markdown",
      "metadata": {
        "id": "zAnAUIrJm8ki"
      },
      "source": [
        "antiferromagnetic coupling ($\\beta J = -0.2$)"
      ]
    },
    {
      "cell_type": "code",
      "execution_count": null,
      "metadata": {
        "colab": {
          "base_uri": "https://localhost:8080/",
          "height": 146
        },
        "id": "trtZSw0vm8ki",
        "outputId": "760934c4-aff6-46d2-a078-472db5f272bc"
      },
      "outputs": [
        {
          "data": {
            "image/png": "[encoded data removed]",
            "text/plain": [
              "<Figure size 864x288 with 6 Axes>"
            ]
          },
          "metadata": {},
          "output_type": "display_data"
        }
      ],
      "source": [
        "evolve_and_plot(lattice=random_lattice.copy(),betaJ=-0.2,betaMuH=0,plot_times=plot_times)"
      ]
    },
    {
      "cell_type": "markdown",
      "metadata": {
        "id": "KrLfeMLsm3Yr"
      },
      "source": [
        "## All spin down case"
      ]
    },
    {
      "cell_type": "markdown",
      "metadata": {
        "id": "Ykzn821wm3Yr"
      },
      "source": [
        "ferromagnetic coupling ($\\beta J = 0.2$)"
      ]
    },
    {
      "cell_type": "code",
      "execution_count": null,
      "metadata": {
        "colab": {
          "base_uri": "https://localhost:8080/",
          "height": 146
        },
        "id": "Q3ziiQkOm3Yr",
        "outputId": "108b3fa2-eadc-474e-903e-01c1370743a4"
      },
      "outputs": [
        {
          "data": {
            "image/png": "[encoded data removed]",
            "text/plain": [
              "<Figure size 864x288 with 6 Axes>"
            ]
          },
          "metadata": {},
          "output_type": "display_data"
        }
      ],
      "source": [
        "evolve_and_plot(lattice=init_lattice(12, type=-1),betaJ=0.2,betaMuH=0,plot_times=plot_times)"
      ]
    },
    {
      "cell_type": "markdown",
      "metadata": {
        "id": "V3WDe3CRm3Ys"
      },
      "source": [
        "antiferromagnetic coupling ($\\beta J = -0.2$)"
      ]
    },
    {
      "cell_type": "code",
      "execution_count": null,
      "metadata": {
        "colab": {
          "base_uri": "https://localhost:8080/",
          "height": 146
        },
        "id": "u30aq_7lm3Ys",
        "outputId": "04b11a61-3c60-4d75-86bc-8f83d551485a"
      },
      "outputs": [
        {
          "data": {
            "image/png": "[encoded data removed]",
            "text/plain": [
              "<Figure size 864x288 with 6 Axes>"
            ]
          },
          "metadata": {},
          "output_type": "display_data"
        }
      ],
      "source": [
        "evolve_and_plot(lattice=init_lattice(12, type=-1),betaJ=-0.2,betaMuH=0,plot_times=plot_times)"
      ]
    },
    {
      "cell_type": "markdown",
      "metadata": {
        "id": "EENDxdeKdnFd"
      },
      "source": [
        "We can see in all three cases above, ferromagnetic tend to have clustered spins, meaning that spin state wants to align with each other. However, antiferromagnetic tends to have sparse spin state."
      ]
    },
    {
      "cell_type": "markdown",
      "metadata": {
        "id": "j3G_r6si55r-"
      },
      "source": [
        "## Magnetisation"
      ]
    },
    {
      "cell_type": "markdown",
      "metadata": {
        "id": "q1tCJDaSUsl4"
      },
      "source": [
        "Also for this case, no field and only coupling, Lars Onsanger discovered an analytical solution:\n",
        "\n",
        "$\\langle M\\rangle= \\begin{cases}0 & \\text { if } T \\geq T_c \\\\ \\pm \\left(1-\\sinh \\left(2 \\beta J\\right)^{-4}\\right)^{\\frac{1}{8}} & \\text { if } T<T_c\\end{cases}$\n",
        "\n",
        "where $T_c$ is the critical temperature given by\n",
        "\n",
        "$T_c=\\frac{2 J}{k_b \\ln (1+\\sqrt{2})}$\n",
        "\n",
        "Show again that the Monte Carlo method correctly repoduces the above analytical formula. What do you notice about the system around the critical point?\n",
        "\n",
        "Hint: The system will equilibrate much faster if you start with an initial state that is close to the expected final state."
      ]
    },
    {
      "cell_type": "code",
      "source": [
        "betaJ_analytical = np.linspace(-5*np.log(1+np.sqrt(2)),5*np.log(1+np.sqrt(2)),100)\n",
        "\n",
        "avg_times = np.arange(8000,10000,1000)\n",
        "# Pick some suitable time points at which to sample your magnetisation. These values should be averaged to get a stable mean\n",
        "lattice_up=init_lattice(15, type=1)\n",
        "ferro = []\n",
        "for beta in betaJ_analytical:\n",
        "    ferro.append(np.average(evolve_and_compute_M(lattice_up, 0.5*beta, 0, avg_times)))\n",
        "\n",
        "plt.plot(betaJ_analytical, ferro, label=\"Monte Carlo ferro\")\n",
        "plt.title('magnetisation comparison with only couping')\n",
        "plt.xlabel ('Coupling strength betaJ')\n",
        "plt.ylabel ('Magnetisation M')\n",
        "plt.legend(loc='upper left')\n",
        "plt.show()"
      ],
      "metadata": {
        "colab": {
          "base_uri": "https://localhost:8080/",
          "height": 295
        },
        "id": "X4FDhE6Zsxk4",
        "outputId": "231d6620-0c33-470d-a182-f5e4704e2e1d"
      },
      "execution_count": 57,
      "outputs": [
        {
          "output_type": "display_data",
          "data": {
            "text/plain": [
              "<Figure size 432x288 with 1 Axes>"
            ],
            "image/png": "[encoded data removed]"
          },
          "metadata": {
            "needs_background": "light"
          }
        }
      ]
    },
    {
      "cell_type": "code",
      "source": [
        "betaJ_analytical = np.linspace(-5*np.log(1+np.sqrt(2)),5*np.log(1+np.sqrt(2)),100)\n",
        "lattice_anti = init_lattice(15, type=-1)\n",
        "anti = []\n",
        "for beta in betaJ_analytical:\n",
        "    anti.append(np.average(evolve_and_compute_M(lattice_anti, 0.5*beta, 0, avg_times)))\n",
        "\n",
        "plt.plot(betaJ_analytical, anti, label=\"Monte Carlo anti\")\n",
        "plt.title('magnetisation comparison with only couping')\n",
        "plt.xlabel ('Coupling strength betaJ')\n",
        "plt.ylabel ('Magnetisation M')\n",
        "plt.legend(loc='upper left')\n",
        "plt.show()"
      ],
      "metadata": {
        "colab": {
          "base_uri": "https://localhost:8080/",
          "height": 295
        },
        "id": "VjQho1nbtbWC",
        "outputId": "aabe190a-dcde-402c-9911-220c3fd15fed"
      },
      "execution_count": 64,
      "outputs": [
        {
          "output_type": "display_data",
          "data": {
            "text/plain": [
              "<Figure size 432x288 with 1 Axes>"
            ],
            "image/png": "[encoded data removed]"
          },
          "metadata": {
            "needs_background": "light"
          }
        }
      ]
    },
    {
      "cell_type": "code",
      "source": [
        "# betaJ_analytical = np.linspace(-5*np.log(1+np.sqrt(2)),5*np.log(1+np.sqrt(2)),100)\n",
        "M_analytical = np.zeros((100,))\n",
        "for i in range(40):\n",
        "  M_analytical[60+i] = (1-np.sinh(betaJ_analytical[60+i])**(-4))**(1/8)\n",
        "\n",
        "# avg_times = np.arange(8000,10000,1000)\n",
        "# Pick some suitable time points at which to sample your magnetisation. These values should be averaged to get a stable mean\n",
        "# lattice_up=init_lattice(15, type=1)\n",
        "# lattice_anti=np.resize([1,-1], (15,15))\n",
        "# ferro = []\n",
        "# anti = []\n",
        "# for beta in betaJ_analytical:\n",
        "#     ferro.append(np.average(evolve_and_compute_M(lattice_up, 0.5*beta, 0, avg_times)))\n",
        "#     anti.append(np.average(evolve_and_compute_M(lattice_anti, -0.5*beta, 0, avg_times)))\n",
        "\n",
        "plt.plot(betaJ_analytical, M_analytical, label=\"analytical ferro\")\n",
        "plt.plot(betaJ_analytical, -M_analytical, label=\"analytical anti\")\n",
        "plt.plot(betaJ_analytical, ferro, label=\"Monte Carlo ferro\")\n",
        "plt.plot(betaJ_analytical, anti, label=\"Monte Carlo anti\")\n",
        "plt.title('Combining magnetisation comparison with only couping')\n",
        "plt.xlabel ('Coupling strength betaJ')\n",
        "plt.ylabel ('Magnetisation M')\n",
        "plt.legend(loc='upper left')\n",
        "plt.show()"
      ],
      "metadata": {
        "colab": {
          "base_uri": "https://localhost:8080/",
          "height": 295
        },
        "id": "vMsnoVGi3RrA",
        "outputId": "cc0c5ae4-5c05-4b80-c162-df460880d58c"
      },
      "execution_count": 66,
      "outputs": [
        {
          "output_type": "display_data",
          "data": {
            "text/plain": [
              "<Figure size 432x288 with 1 Axes>"
            ],
            "image/png": "[encoded data removed]"
          },
          "metadata": {
            "needs_background": "light"
          }
        }
      ]
    },
    {
      "cell_type": "markdown",
      "source": [
        "There is a sudden drop near the critical temperature."
      ],
      "metadata": {
        "id": "aLYJ6GzUy3wL"
      }
    },
    {
      "cell_type": "markdown",
      "metadata": {
        "id": "ZQE1AkyCUsl5"
      },
      "source": [
        "## Optional: implement the Wolff algorithm\n",
        "**One more non-optional exercise after this, please look ahead.** In some cases, as you might realise in the next exercise, it can take quite long for the Metropolis-Hastings algorithm to sample the state space of the system. The Wolff algorithm was developed to speed up the exploration of the state space by flipping multiple spins (of the same sign) at once.\n",
        "\n",
        "The algorithm works as follows:\n",
        "\n",
        "- Select a spin $s_i$ at random\n",
        "\n",
        "- Start checking all neighbouring spins $s_j$\n",
        "\n",
        "- Add a neighbouring spin $s_j$ to the cluster with probability $P_{add} = 1-\\exp(-\\beta \\Delta E)$, but only if it has the same sign as $s_i$\n",
        "\n",
        "- Repeat until no unvisited neighbours remain\n",
        "\n",
        "- Flip all spins\n",
        "\n",
        "Implement Wolff algorithm and compare the equilibration speed to that of the Metropolis-Hastings algorithm for a system with only coupling ($\\beta J=0.2$). Hint: In practice it is more convenient to already flip all visited spins.\n",
        "\n",
        "For the interested reader, an even more efficient method is the Swendsen-Wang algorithm (https://en.wikipedia.org/wiki/Swendsen%E2%80%93Wang_algorithm)."
      ]
    },
    {
      "cell_type": "code",
      "execution_count": null,
      "metadata": {
        "id": "udZCanM7Usl5"
      },
      "outputs": [],
      "source": [
        "def spin_flip_wolff(lattice,width,betaJ,betaMuH):\n",
        "    '''Applies the Wolff algorithm to try and flip a spin.'''\n",
        "    i,j = rng.integers(0,width,2) # Select a random seed\n",
        "    # TO DO\n",
        "    cluster = [[i,j]]\n",
        "    s = lattice[i,j]\n",
        "    unvisited = neighbouring_sites(i,j,width)\n",
        "    while (len(unvisited)>0):   # while unvisited sites remain\n",
        "        i,j = unvisited.pop(0)  # take one and remove from the unvisited list\n",
        "        for x,y in neighbouring_sites(i,j,width):\n",
        "            # TO DO\n",
        "            if s == lattice[x,y] and rng.random() <= 1-np.exp(-0.4*s*neighbouring_spins_sum(x,y,lattice,width)) and [x,y] not in cluster:\n",
        "              cluster.append([x,y])\n",
        "              unvisited.append([x,y])\n",
        "    for site in cluster:\n",
        "      lattice[site[0], site[1]] *= -1\n",
        "    return lattice\n",
        "\n",
        "def evolve_and_plot_wolff(lattice,betaJ,betaMuH,plot_times):\n",
        "    '''Evolves the lattice using the Wolff algorithm and plots the lattice at different times.'''\n",
        "    # TO DO\n",
        "    fig, ax = plt.subplots(1,len(plot_times),figsize=(12,4))\n",
        "    for t in range(plot_times[-1]+1):\n",
        "        # TO DO\n",
        "        if t in plot_times:\n",
        "            plot_lattice(lattice,ax[plot_times.index(t)],\"t = {}\".format(t))\n",
        "        spin_flip_wolff(lattice, len(lattice), betaJ, betaMuH)\n",
        "    plt.show()"
      ]
    },
    {
      "cell_type": "code",
      "execution_count": null,
      "metadata": {
        "colab": {
          "base_uri": "https://localhost:8080/",
          "height": 346
        },
        "id": "IZbm3d05Usl6",
        "outputId": "fa019921-2988-4956-ff29-87776c1a3dee"
      },
      "outputs": [
        {
          "name": "stdout",
          "output_type": "stream",
          "text": [
            "[[1 1 1 1 1 1 1 1 1 1 1 1]\n",
            " [1 1 1 1 1 1 1 1 1 1 1 1]\n",
            " [1 1 1 1 1 1 1 1 1 1 1 1]\n",
            " [1 1 1 1 1 1 1 1 1 1 1 1]\n",
            " [1 1 1 1 1 1 1 1 1 1 1 1]\n",
            " [1 1 1 1 1 1 1 1 1 1 1 1]\n",
            " [1 1 1 1 1 1 1 1 1 1 1 1]\n",
            " [1 1 1 1 1 1 1 1 1 1 1 1]\n",
            " [1 1 1 1 1 1 1 1 1 1 1 1]\n",
            " [1 1 1 1 1 1 1 1 1 1 1 1]\n",
            " [1 1 1 1 1 1 1 1 1 1 1 1]\n",
            " [1 1 1 1 1 1 1 1 1 1 1 1]]\n"
          ]
        },
        {
          "data": {
            "image/png": "[encoded data removed]",
            "text/plain": [
              "<Figure size 864x288 with 7 Axes>"
            ]
          },
          "metadata": {},
          "output_type": "display_data"
        }
      ],
      "source": [
        "# Testing the Wolff algorithm if it has been implemented\n",
        "\n",
        "# TO DO\n",
        "plot_times = [0,1,10,100,1000,10000,100000]\n",
        "lattice_test = init_lattice(width=12, type=1)\n",
        "betaJ_test = 0.2\n",
        "betaMuH_test = 0\n",
        "print(lattice_test)\n",
        "evolve_and_plot_wolff(lattice_test,betaJ_test,betaMuH_test,plot_times)"
      ]
    },
    {
      "cell_type": "markdown",
      "metadata": {
        "id": "1iHToppJ5V8q"
      },
      "source": [
        "This is much faster than the previous algorithm"
      ]
    },
    {
      "cell_type": "markdown",
      "metadata": {
        "id": "W5uMNPHKUsl6"
      },
      "source": [
        "## Mandatory: Magnetic susceptibility\n",
        "A common problem in physical simulations is that we are limited in the size of the systems that we can simulate within a reasonable time. Periodic boundary conditions are typically a good way of circumventing problems caused by finite systems, but some problems cannot be circumvented that easily. The magnetisation of the 2D Ising model shows a continuous phase transition, and statistical physics tells us the correlation length $\\xi$ of the system thus follows the relation\n",
        "\n",
        "$\\xi \\sim\\left|T-T_c\\right|^{-\\nu}$\n",
        "\n",
        "with $\\nu$ is called the critical exponent. This means that the correlation length will quickly diverge near the critical point and correlate most, if not all, spins in the system with each other. This strongly affects the magnetic susceptibility $\\chi$ that is defined as\n",
        "\n",
        "$\\chi=\\frac{1}{N} \\frac{\\partial M}{\\partial H}=\\frac{\\beta}{N}\\left(\\left\\langle M^2\\right\\rangle-\\langle M \\rangle^2\\right)$.\n",
        "\n",
        "Run a number of tests to see how the magnetic susceptibility $\\chi$ changes as the critical temperature of the system is approached. Repeat this for a smaller or larger lattice. What does this tell you about our ability to get accurate average properties for the system near the critical temperature?\n",
        "\n",
        "Note: It is more convenient to use the definition of magnetic susceptibility that uses the variance of the magnetisation than the definition of the gradient w.r.t. the magnetic field."
      ]
    },
    {
      "cell_type": "code",
      "execution_count": null,
      "metadata": {
        "id": "MXepi6OXof3j"
      },
      "outputs": [],
      "source": [
        "def evolve_and_computeChi(lattice,betaJ,betaMuH,avg_times):\n",
        "    '''Evolves the lattice using the Metropolis-Hastings algorithm and computes the average magnetisation using different time steps.'''\n",
        "    # TO DO\n",
        "    Chi = []\n",
        "    def var(lattice, M):\n",
        "      var = []\n",
        "      for i in range(len(lattice)):\n",
        "        for j in range(len(lattice)):\n",
        "          var.append((lattice[i][j]-M)**2)\n",
        "      return np.sum(var)\n",
        "    for t in range(avg_times[-1]+1):\n",
        "        lattice = attempt_spin_flip(lattice, len(lattice), betaJ, betaMuH)\n",
        "        if t in avg_times:\n",
        "          M = compute_magnetisation(lattice)\n",
        "          v = var(lattice, M)\n",
        "          Chi.append(v*betaJ)\n",
        "    return np.average(Chi)"
      ]
    },
    {
      "cell_type": "code",
      "execution_count": 6,
      "metadata": {
        "colab": {
          "base_uri": "https://localhost:8080/",
          "height": 509
        },
        "id": "UJvM3Z4YAwPH",
        "outputId": "a8c21c75-06ab-486c-8db4-6a66fd4b0210"
      },
      "outputs": [
        {
          "output_type": "stream",
          "name": "stdout",
          "text": [
            "[[ 1 -1 -1  1  1 -1  1  1  1 -1  1 -1]\n",
            " [ 1  1 -1 -1  1  1 -1  1  1 -1 -1 -1]\n",
            " [-1 -1 -1 -1  1 -1  1  1  1  1  1  1]\n",
            " [-1 -1  1 -1 -1 -1  1 -1 -1  1 -1  1]\n",
            " [-1  1 -1  1  1  1  1  1 -1  1 -1  1]\n",
            " [ 1 -1  1  1 -1  1  1  1 -1  1  1  1]\n",
            " [ 1  1  1 -1 -1 -1 -1 -1  1  1 -1  1]\n",
            " [ 1  1 -1  1  1 -1 -1  1 -1 -1  1 -1]\n",
            " [ 1 -1  1  1  1  1 -1  1  1  1 -1  1]\n",
            " [-1 -1  1  1  1 -1 -1 -1 -1 -1  1  1]\n",
            " [-1 -1  1 -1 -1 -1  1 -1 -1  1 -1 -1]\n",
            " [ 1  1  1 -1  1  1  1 -1  1 -1  1 -1]]\n"
          ]
        },
        {
          "output_type": "display_data",
          "data": {
            "text/plain": [
              "<Figure size 432x288 with 1 Axes>"
            ],
            "image/png": "[encoded data removed]"
          },
          "metadata": {
            "needs_background": "light"
          }
        }
      ],
      "source": [
        "def evolve_and_computeChi(lattice,betaJ,betaMuH,avg_times):\n",
        "    '''Evolves the lattice using the Metropolis-Hastings algorithm and computes the average magnetisation using different time steps.'''\n",
        "    # TO DO\n",
        "    Chi = []\n",
        "    def var(lattice, M):\n",
        "      var = []\n",
        "      for i in range(len(lattice)):\n",
        "        for j in range(len(lattice)):\n",
        "          var.append((lattice[i][j]-M)**2)\n",
        "      return np.sum(var)\n",
        "    for t in range(avg_times[-1]+1):\n",
        "        lattice = attempt_spin_flip(lattice, len(lattice), betaJ, betaMuH)\n",
        "        if t in avg_times:\n",
        "          M = compute_magnetisation(lattice)\n",
        "          v = var(lattice, M)\n",
        "          Chi.append(v*betaJ)\n",
        "    return np.average(Chi)\n",
        "\n",
        "critical_betaJ = np.log(1+np.sqrt(2))\n",
        "beta_analytical = np.linspace(0.01*critical_betaJ,2*critical_betaJ,400) # betaMuH values to plot\n",
        "avg_times = np.arange(1000,10000,1000)\n",
        "# Pick some suitable time points at which to sample your magnetisation. These values should be averaged to get a stable mean\n",
        "lattice=init_lattice(12, type=0)\n",
        "print(lattice)\n",
        "Chi = []\n",
        "for b in beta_analytical:\n",
        "  c = evolve_and_computeChi(lattice,b,0,avg_times)\n",
        "  Chi.append(c)\n",
        "plt.plot(beta_analytical, Chi, 'r')\n",
        "# Simulate the system at different coupling strengths (relative to the critical temperature)\n",
        "plt.title('Magnetic susceptibility')\n",
        "plt.xlabel ('Coupling strength betaJ')\n",
        "plt.ylabel ('Magnetic susceptibility Chi')\n",
        "plt.show()"
      ]
    },
    {
      "cell_type": "code",
      "execution_count": null,
      "metadata": {
        "colab": {
          "background_save": true
        },
        "id": "GDht6uZwYHRG",
        "outputId": "b62ccf5a-b433-425e-85c5-ad461535c92b"
      },
      "outputs": [
        {
          "data": {
            "image/png": "[encoded data removed]",
            "text/plain": [
              "<Figure size 432x288 with 1 Axes>"
            ]
          },
          "metadata": {},
          "output_type": "display_data"
        }
      ],
      "source": [
        "# Smaller or larger lattice to show susceptibility changes\n",
        "critical_betaJ = np.log(1+np.sqrt(2))\n",
        "beta_analytical = np.linspace(0,2*critical_betaJ,400) # betaMuH values to plot\n",
        "avg_times = np.arange(1000,100000,1000)\n",
        "# Pick some suitable time points at which to sample your magnetisation. These values should be averaged to get a stable mean\n",
        "lattice4 = init_lattice(4, type=0)\n",
        "lattice8 = init_lattice(8, type=0)\n",
        "lattice16 = init_lattice(16, type=0)\n",
        "Chi_4 = []\n",
        "Chi_8 = []\n",
        "Chi_16 = []\n",
        "for b in beta_analytical:\n",
        "  c4 = evolve_and_computeChi(lattice4,b,0,avg_times)\n",
        "  Chi_4.append(c4)\n",
        "  c8 = evolve_and_computeChi(lattice8,b,0,avg_times)\n",
        "  Chi_8.append(c8)\n",
        "  c16 = evolve_and_computeChi(lattice16,b,0,avg_times)\n",
        "  Chi_16.append(c16)\n",
        "plt.plot(beta_analytical, Chi_4, 'r', label='susceptibility with lattice width 4')\n",
        "plt.plot(beta_analytical, Chi_8, 'b', label='susceptibility with lattice width 8')\n",
        "plt.plot(beta_analytical, Chi_16, 'y', label='susceptibility with lattice width 16')\n",
        "# Simulate the system at different coupling strengths (relative to the critical temperature)\n",
        "plt.legend()\n",
        "plt.title('Comparing susceptibility with different dimension')\n",
        "plt.xlabel ('Coupling strength betaJ')\n",
        "plt.ylabel ('Magnetic susceptibility Chi')\n",
        "plt.show()"
      ]
    },
    {
      "cell_type": "markdown",
      "source": [
        "As we can see, the peak value of susceptibility increase four folds as dimension doubles. This is because the critical temperature actually scales with the dimension N. As the dimension increases, the crtical temperature decreases and the critical couping increases (scale with 1/T) and we can see the shift in the plot. Therefore, to get an accurate value, considering both Onsanger's result and finite-size scaling, we need a large dimension"
      ],
      "metadata": {
        "id": "_H6LaoPtn71O"
      }
    },
    {
      "cell_type": "markdown",
      "metadata": {
        "id": "1ScT00xpUsl7"
      },
      "source": [
        "## Optional: Further assignments\n",
        "\n",
        "**Investigate finite-size scaling of the lattice.** The critical temperature varies as a function of the lattice size $N=w*w$\n",
        "\n",
        "$T_c(N) = T_c(\\infty)+aN^{-1/b}$\n",
        "\n",
        "with $a$ and $b$ being constants to estimate. Compare your estimated $T_c(\\infty)$ to Onsanger's analytical result.\n",
        "\n",
        "**Compute the decorrelation time of the magnetisation to determine the proper equilibration time.** The autovariance is defined as\n",
        "\n",
        "$A(\\tau)=\\langle M'(t)M'(t+\\tau) \\rangle$\n",
        "\n",
        "where $M'=M-\\langle M \\rangle$ and $\\tau$ is the lag time. The autocorrelation is then given by $a(\\tau)=\\frac{A(\\tau)}{A(0)}$. The decorrelation time can them be said to be $\\tau$ for which $a(\\tau)$ has dropped to $1/e$.\n",
        "\n",
        "**Determine the heat capacity.** The fluctuation dissipation theorem states that the heat capacity of the system is given by\n",
        "\n",
        "$C=\\frac{\\sigma_E}{k_B T^2} $\n",
        "\n",
        "with $\\sigma_E$ being the standard deviation in the system energy."
      ]
    },
    {
      "cell_type": "markdown",
      "source": [
        "# Heat Capacity"
      ],
      "metadata": {
        "id": "mN0_XN0CzYj7"
      }
    },
    {
      "cell_type": "code",
      "execution_count": null,
      "metadata": {
        "id": "HAPbfijZq7f0"
      },
      "outputs": [],
      "source": [
        "def calcEnergy(lattice):\n",
        "    '''Energy of a given configuration'''\n",
        "    energy = 0\n",
        "    for i in range(len(lattice)):\n",
        "        for j in range(len(lattice)):\n",
        "          e = compute_betaDeltaE(i,j,lattice,width,1,1)\n",
        "          energy += e\n",
        "    return energy\n",
        "\n",
        "def evolve_and_compute_C(lattice,betaJ,betaMuH,avg_times):\n",
        "    E = E2 = []\n",
        "    for t in range(avg_times[-1]+1):\n",
        "        if t in avg_times:\n",
        "          e = calcEnergy(lattice)\n",
        "          E.append(e)\n",
        "          E2.append(e**2)\n",
        "        lattice = attempt_spin_flip(lattice, len(lattice), betaJ, betaMuH)\n",
        "    return np.average(E), np.average(E2)\n",
        "\n",
        "nt      = 100         #  number of temperature points\n",
        "N       = 12         #  size of the lattice, N x N\n",
        "eqSteps = 1024       #  number of MC sweeps for equilibration\n",
        "mcSteps = 1024       #  number of MC sweeps for calculation\n",
        "lattice = init_lattice(N, type=0)\n",
        "T       = np.linspace(1, 4, nt); \n",
        "C = np.zeros(nt)\n",
        "n1, n2  = 1.0/(N*N), 1.0/(N*N) \n",
        "\n",
        "for i in range(nt):\n",
        "\n",
        "    iT=1.0/T[i]; iT2=iT*iT;\n",
        "    \n",
        "    E1, E2 = evolve_and_compute_C(lattice,iT,0,avg_times)\n",
        "\n",
        "    C[i] = (n1*E2 - n2*E1*E1)*iT2\n"
      ]
    },
    {
      "cell_type": "code",
      "execution_count": null,
      "metadata": {
        "colab": {
          "base_uri": "https://localhost:8080/",
          "height": 299
        },
        "id": "T77pWZc_rFDF",
        "outputId": "98d67337-3aa8-46eb-94e4-66eb316595c0"
      },
      "outputs": [
        {
          "data": {
            "image/png": "[encoded data removed]",
            "text/plain": [
              "<Figure size 432x288 with 1 Axes>"
            ]
          },
          "metadata": {},
          "output_type": "display_data"
        }
      ],
      "source": [
        "plt.plot(T, C, color='IndianRed')\n",
        "plt.xlabel(\"Temperature (T)\", fontsize=20);  \n",
        "plt.ylabel(\"Specific Heat \", fontsize=20);"
      ]
    }
  ],
  "metadata": {
    "colab": {
      "collapsed_sections": [
        "LG4UA4TiUsls",
        "-enypUk9Uslz",
        "4ktCWbu2Usl0",
        "pQybg7uVUsl1",
        "1uxbZV3ybC-P",
        "F4lwBrs3bciT",
        "VPUTkQCrbvGb",
        "jRXPHwhdm0Mv",
        "1fnChH8pm_FM",
        "JfzGWhiLm8kh",
        "KrLfeMLsm3Yr",
        "j3G_r6si55r-",
        "ZQE1AkyCUsl5",
        "W5uMNPHKUsl6",
        "mN0_XN0CzYj7"
      ],
      "provenance": []
    },
    "kernelspec": {
      "display_name": "Python 3",
      "language": "python",
      "name": "python3"
    },
    "language_info": {
      "codemirror_mode": {
        "name": "ipython",
        "version": 3
      },
      "file_extension": ".py",
      "mimetype": "text/x-python",
      "name": "python",
      "nbconvert_exporter": "python",
      "pygments_lexer": "ipython3",
      "version": "3.8.10"
    },
    "vscode": {
      "interpreter": {
        "hash": "90a5da22892c8820ccdd069fc254a4ff176e1cd4a8feee0faeb91d257a69cb19"
      }
    }
  },
  "nbformat": 4,
  "nbformat_minor": 0
}